{
  "nbformat": 4,
  "nbformat_minor": 0,
  "metadata": {
    "colab": {
      "provenance": []
    },
    "kernelspec": {
      "name": "python3",
      "display_name": "Python 3"
    },
    "language_info": {
      "name": "python"
    }
  },
  "cells": [
    {
      "cell_type": "markdown",
      "source": [
        " Projet MMDM\n",
        "Sujet 2 : Text Mining"
      ],
      "metadata": {
        "id": "xvJxbqsRTZCM"
      }
    },
    {
      "cell_type": "code",
      "source": [
        "import math\n",
        "import nltk as nk\n",
        "import numpy as np\n",
        "import matplotlib.pylab as plt\n",
        "import seaborn as sns\n",
        "import matplotlib as mpl\n",
        "from mpl_toolkits.mplot3d import Axes3D\n",
        "from sklearn.decomposition import PCA\n",
        "from sklearn.preprocessing import StandardScaler\n",
        "from sklearn.cluster import KMeans as kmeans\n",
        "from nltk.corpus import reuters\n",
        "from nltk import word_tokenize\n",
        "from nltk.corpus import reuters\n",
        "from sklearn.metrics.pairwise import pairwise_distances\n",
        "from sklearn.feature_extraction.text import TfidfVectorizer\n",
        "from sklearn.feature_extraction.text import TfidfTransformer\n",
        "from sklearn.feature_extraction.text import CountVectorizer\n",
        "from nltk.stem.porter import PorterStemmer\n",
        "import re\n",
        "from scipy.spatial.distance import pdist, euclidean\n",
        "from sklearn.decomposition import non_negative_factorization\n",
        "from sklearn.decomposition import NMF\n",
        "from scipy.stats import entropy\n",
        "from math import log, e\n",
        "from sklearn.metrics.pairwise import polynomial_kernel as pk\n",
        "from sklearn import metrics\n",
        "from sklearn.metrics import davies_bouldin_score\n",
        "#from sklearn.metrics import calinski_harabaz_score\n",
        "from sklearn.metrics.pairwise import rbf_kernel as rbf\n",
        "from nltk.corpus import stopwords\n",
        "from sklearn.metrics import accuracy_score\n",
        "from sklearn.metrics import pairwise_distances\n",
        "import pandas as pd\n",
        "from sklearn.metrics import log_loss as sk_entropy\n",
        "from sklearn.cluster import KMeans\n",
        "from sklearn.preprocessing import LabelBinarizer\n",
        "from scipy.sparse import csr_matrix\n",
        "#import pymf3\n",
        "from functools import reduce\n",
        "from numba import njit, jit\n",
        "import argparse\n",
        "import time\n",
        "import csv"
      ],
      "metadata": {
        "id": "hA8Bk8-0TGVe"
      },
      "execution_count": null,
      "outputs": []
    },
    {
      "cell_type": "code",
      "source": [
        "import nltk\n",
        "nltk.download('punkt')"
      ],
      "metadata": {
        "colab": {
          "base_uri": "https://localhost:8080/"
        },
        "id": "PylHNgr9UYbq",
        "outputId": "393e4007-459f-4b51-c445-a5c7b93c1f45"
      },
      "execution_count": null,
      "outputs": [
        {
          "output_type": "stream",
          "name": "stderr",
          "text": [
            "[nltk_data] Downloading package punkt to /root/nltk_data...\n",
            "[nltk_data]   Unzipping tokenizers/punkt.zip.\n"
          ]
        },
        {
          "output_type": "execute_result",
          "data": {
            "text/plain": [
              "True"
            ]
          },
          "metadata": {},
          "execution_count": 3
        }
      ]
    },
    {
      "cell_type": "code",
      "execution_count": null,
      "metadata": {
        "id": "tvMNsdK1S0-9",
        "colab": {
          "base_uri": "https://localhost:8080/"
        },
        "outputId": "6aeb1fe8-2e41-4eaf-aeeb-0ab050363597"
      },
      "outputs": [
        {
          "output_type": "stream",
          "name": "stdout",
          "text": [
            "Looking in indexes: https://pypi.org/simple, https://us-python.pkg.dev/colab-wheels/public/simple/\n",
            "Collecting requests==2.22.0\n",
            "  Downloading requests-2.22.0-py2.py3-none-any.whl (57 kB)\n",
            "\u001b[K     |████████████████████████████████| 57 kB 2.9 MB/s \n",
            "\u001b[?25hCollecting beautifulsoup4==4.9.3\n",
            "  Downloading beautifulsoup4-4.9.3-py3-none-any.whl (115 kB)\n",
            "\u001b[K     |████████████████████████████████| 115 kB 10.7 MB/s \n",
            "\u001b[?25hRequirement already satisfied: chardet<3.1.0,>=3.0.2 in /usr/local/lib/python3.8/dist-packages (from requests==2.22.0) (3.0.4)\n",
            "Collecting idna<2.9,>=2.5\n",
            "  Downloading idna-2.8-py2.py3-none-any.whl (58 kB)\n",
            "\u001b[K     |████████████████████████████████| 58 kB 5.9 MB/s \n",
            "\u001b[?25hRequirement already satisfied: certifi>=2017.4.17 in /usr/local/lib/python3.8/dist-packages (from requests==2.22.0) (2022.12.7)\n",
            "Requirement already satisfied: urllib3!=1.25.0,!=1.25.1,<1.26,>=1.21.1 in /usr/local/lib/python3.8/dist-packages (from requests==2.22.0) (1.24.3)\n",
            "Collecting soupsieve>1.2\n",
            "  Downloading soupsieve-2.3.2.post1-py3-none-any.whl (37 kB)\n",
            "Installing collected packages: soupsieve, idna, requests, beautifulsoup4\n",
            "  Attempting uninstall: idna\n",
            "    Found existing installation: idna 2.10\n",
            "    Uninstalling idna-2.10:\n",
            "      Successfully uninstalled idna-2.10\n",
            "  Attempting uninstall: requests\n",
            "    Found existing installation: requests 2.23.0\n",
            "    Uninstalling requests-2.23.0:\n",
            "      Successfully uninstalled requests-2.23.0\n",
            "  Attempting uninstall: beautifulsoup4\n",
            "    Found existing installation: beautifulsoup4 4.6.3\n",
            "    Uninstalling beautifulsoup4-4.6.3:\n",
            "      Successfully uninstalled beautifulsoup4-4.6.3\n",
            "\u001b[31mERROR: pip's dependency resolver does not currently take into account all the packages that are installed. This behaviour is the source of the following dependency conflicts.\n",
            "google-colab 1.0.0 requires requests>=2.23.0, but you have requests 2.22.0 which is incompatible.\u001b[0m\n",
            "Successfully installed beautifulsoup4-4.9.3 idna-2.8 requests-2.22.0 soupsieve-2.3.2.post1\n"
          ]
        }
      ],
      "source": [
        "import os\n",
        "!pip install requests==2.22.0 beautifulsoup4==4.9.3\n",
        "from bs4 import BeautifulSoup"
      ]
    },
    {
      "cell_type": "markdown",
      "source": [
        "# Partie 1"
      ],
      "metadata": {
        "id": "4tQU7-yuQCzw"
      }
    },
    {
      "cell_type": "code",
      "source": [
        "from google.colab import drive\n",
        "drive.mount('/content/drive')"
      ],
      "metadata": {
        "colab": {
          "base_uri": "https://localhost:8080/"
        },
        "id": "tufTT86dVjOc",
        "outputId": "3242b475-7ad6-4597-8e80-43645f07e903"
      },
      "execution_count": null,
      "outputs": [
        {
          "output_type": "stream",
          "name": "stdout",
          "text": [
            "Mounted at /content/drive\n"
          ]
        }
      ]
    },
    {
      "cell_type": "markdown",
      "source": [
        "**Lecture des données => création de reuters_data**"
      ],
      "metadata": {
        "id": "Piq43Qy7QQpP"
      }
    },
    {
      "cell_type": "code",
      "source": [
        "reuters_data = []\n",
        "for file in os.listdir(\"/content/drive/MyDrive/data\"):\n",
        "\n",
        "    if file.endswith(\".sgm\"):\n",
        "\n",
        "        # for each sgm file, read it\n",
        "        filename = os.path.join(\"/content/drive/MyDrive/data\", file)\n",
        "        f = open(filename, 'r', encoding='utf-8', errors='ignore')\n",
        "        dataFile = f.read()\n",
        "\n",
        "        # pass it to BeautifulSoup\n",
        "        soup = BeautifulSoup(dataFile, 'html.parser')\n",
        "        contents = soup.findAll('body')\n",
        "\n",
        "        # for each body tag, extract it's text\n",
        "        for content in contents:\n",
        "            reuters_data.append(content.text)\n"
      ],
      "metadata": {
        "id": "MLNT3KMjW9Kr"
      },
      "execution_count": null,
      "outputs": []
    },
    {
      "cell_type": "code",
      "source": [
        "print(reuters_data[0])\n",
        "print(\"---------------\")\n",
        "print(reuters_data[1])"
      ],
      "metadata": {
        "colab": {
          "base_uri": "https://localhost:8080/"
        },
        "id": "ZgnCLmoq1wmE",
        "outputId": "b9dd85a5-f8d8-40e7-b0bc-51073cdf7912"
      },
      "execution_count": null,
      "outputs": [
        {
          "output_type": "stream",
          "name": "stdout",
          "text": [
            "Showers continued throughout the week in\n",
            "the Bahia cocoa zone, alleviating the drought since early\n",
            "January and improving prospects for the coming temporao,\n",
            "although normal humidity levels have not been restored,\n",
            "Comissaria Smith said in its weekly review.\n",
            "    The dry period means the temporao will be late this year.\n",
            "    Arrivals for the week ended February 22 were 155,221 bags\n",
            "of 60 kilos making a cumulative total for the season of 5.93\n",
            "mln against 5.81 at the same stage last year. Again it seems\n",
            "that cocoa delivered earlier on consignment was included in the\n",
            "arrivals figures.\n",
            "    Comissaria Smith said there is still some doubt as to how\n",
            "much old crop cocoa is still available as harvesting has\n",
            "practically come to an end. With total Bahia crop estimates\n",
            "around 6.4 mln bags and sales standing at almost 6.2 mln there\n",
            "are a few hundred thousand bags still in the hands of farmers,\n",
            "middlemen, exporters and processors.\n",
            "    There are doubts as to how much of this cocoa would be fit\n",
            "for export as shippers are now experiencing dificulties in\n",
            "obtaining +Bahia superior+ certificates.\n",
            "    In view of the lower quality over recent weeks farmers have\n",
            "sold a good part of their cocoa held on consignment.\n",
            "    Comissaria Smith said spot bean prices rose to 340 to 350\n",
            "cruzados per arroba of 15 kilos.\n",
            "    Bean shippers were reluctant to offer nearby shipment and\n",
            "only limited sales were booked for March shipment at 1,750 to\n",
            "1,780 dlrs per tonne to ports to be named.\n",
            "    New crop sales were also light and all to open ports with\n",
            "June/July going at 1,850 and 1,880 dlrs and at 35 and 45 dlrs\n",
            "under New York july, Aug/Sept at 1,870, 1,875 and 1,880 dlrs\n",
            "per tonne FOB.\n",
            "    Routine sales of butter were made. March/April sold at\n",
            "4,340, 4,345 and 4,350 dlrs.\n",
            "    April/May butter went at 2.27 times New York May, June/July\n",
            "at 4,400 and 4,415 dlrs, Aug/Sept at 4,351 to 4,450 dlrs and at\n",
            "2.27 and 2.28 times New York Sept and Oct/Dec at 4,480 dlrs and\n",
            "2.27 times New York Dec, Comissaria Smith said.\n",
            "    Destinations were the U.S., Covertible currency areas,\n",
            "Uruguay and open ports.\n",
            "    Cake sales were registered at 785 to 995 dlrs for\n",
            "March/April, 785 dlrs for May, 753 dlrs for Aug and 0.39 times\n",
            "New York Dec for Oct/Dec.\n",
            "    Buyers were the U.S., Argentina, Uruguay and convertible\n",
            "currency areas.\n",
            "    Liquor sales were limited with March/April selling at 2,325\n",
            "and 2,380 dlrs, June/July at 2,375 dlrs and at 1.25 times New\n",
            "York July, Aug/Sept at 2,400 dlrs and at 1.25 times New York\n",
            "Sept and Oct/Dec at 1.25 times New York Dec, Comissaria Smith\n",
            "said.\n",
            "    Total Bahia sales are currently estimated at 6.13 mln bags\n",
            "against the 1986/87 crop and 1.06 mln bags against the 1987/88\n",
            "crop.\n",
            "    Final figures for the period to February 28 are expected to\n",
            "be published by the Brazilian Cocoa Trade Commission after\n",
            "carnival which ends midday on February 27.\n",
            " Reuter\n",
            "\u0003\n",
            "---------------\n",
            "Standard Oil Co and BP North America\n",
            "Inc said they plan to form a venture to manage the money market\n",
            "borrowing and investment activities of both companies.\n",
            "    BP North America is a subsidiary of British Petroleum Co\n",
            "Plc <BP>, which also owns a 55 pct interest in Standard Oil.\n",
            "    The venture will be called BP/Standard Financial Trading\n",
            "and will be operated by Standard Oil under the oversight of a\n",
            "joint management committee.\n",
            "\n",
            " Reuter\n",
            "\u0003\n"
          ]
        }
      ]
    },
    {
      "cell_type": "markdown",
      "source": [
        "**Lecture des labels (topics) => création de reuters_labels**"
      ],
      "metadata": {
        "id": "gldcdqxlQTKP"
      }
    },
    {
      "cell_type": "code",
      "source": [
        "reuters_labels = [] ##traitement des labels\n",
        "i=0\n",
        "for file in os.listdir(\"/content/drive/MyDrive/data\"):\n",
        "\n",
        "    if file.startswith(\"all-topics-strings\"):\n",
        "\n",
        "        # for each sgm file, read it\n",
        "        filename = os.path.join(\"/content/drive/MyDrive/data\", file)\n",
        "        f = open(filename, 'r', encoding='utf-8', errors='ignore')\n",
        "        dataFile = f.read()\n",
        "        word=\"\"\n",
        "        reuters_labels.append(\"\")\n",
        "        for line in dataFile:\n",
        "            if line != \"\\n\":\n",
        "              word = word + line\n",
        "              reuters_labels[i]=word\n",
        "            else:\n",
        "              word=\"\"\n",
        "              i+=1\n",
        "              reuters_labels.append(\"\")\n",
        "\n",
        "for word in reuters_labels:#on enlève les espaces inutiles\n",
        "  word.replace(\" \", \"\")"
      ],
      "metadata": {
        "id": "2IdU5reRfeO-"
      },
      "execution_count": null,
      "outputs": []
    },
    {
      "cell_type": "code",
      "source": [
        "print(reuters_labels)"
      ],
      "metadata": {
        "colab": {
          "base_uri": "https://localhost:8080/"
        },
        "id": "pn_FV7kW2EYb",
        "outputId": "679892c8-d4e8-4ee7-b748-8f9f6e6550e1"
      },
      "execution_count": null,
      "outputs": [
        {
          "output_type": "stream",
          "name": "stdout",
          "text": [
            "['acq', 'alum', 'austdlr', 'austral', 'barley', 'bfr', 'bop', 'can', 'carcass', 'castor-meal', 'castor-oil', 'castorseed', 'citruspulp', 'cocoa', 'coconut', 'coconut-oil', 'coffee', 'copper', 'copra-cake', 'corn', 'corn-oil', 'cornglutenfeed', 'cotton ', 'cotton-meal', 'cotton-oil', 'cottonseed', 'cpi', 'cpu', 'crude', 'cruzado', 'dfl', 'dkr', 'dlr', 'dmk', 'drachma', 'earn', 'escudo', 'f-cattle', 'ffr', 'fishmeal', 'flaxseed', 'fuel', 'gas', 'gnp', 'gold', 'grain', 'groundnut', 'groundnut-meal', 'groundnut-oil', 'heat', 'hk', 'hog', 'housing', 'income', 'instal-debt', 'interest', 'inventories', 'ipi', 'iron-steel', 'jet', 'jobs', 'l-cattle', 'lead', 'lei', 'lin-meal', 'lin-oil', 'linseed', 'lit', 'livestock', 'lumber', 'lupin', 'meal-feed', 'mexpeso', 'money-fx', 'money-supply', 'naphtha     ', 'nat-gas', 'nickel', 'nkr', 'nzdlr', 'oat', 'oilseed', 'orange', 'palladium', 'palm-meal', 'palm-oil', 'palmkernel', 'peseta', 'pet-chem', 'platinum', 'plywood', 'pork-belly', 'potato', 'propane', 'rand', 'rape-meal', 'rape-oil', 'rapeseed', 'red-bean', 'reserves', 'retail', 'rice', 'ringgit', 'rubber', 'rupiah', 'rye', 'saudriyal', 'sfr', 'ship', 'silk', 'silver', 'singdlr', 'skr', 'sorghum', 'soy-meal', 'soy-oil', 'soybean', 'stg', 'strategic-metal', 'sugar', 'sun-meal', 'sun-oil', 'sunseed', 'tapioca', 'tea', 'tin', 'trade', 'tung', 'tung-oil', 'veg-oil', 'wheat', 'wool', 'wpi', 'yen', 'zinc', '']\n"
          ]
        }
      ]
    },
    {
      "cell_type": "code",
      "source": [
        "import nltk\n",
        "nltk.download('stopwords')"
      ],
      "metadata": {
        "colab": {
          "base_uri": "https://localhost:8080/"
        },
        "id": "_yn-zayXbx4C",
        "outputId": "77ec1d26-d96c-4efa-d7d6-cef71ab14b7b"
      },
      "execution_count": null,
      "outputs": [
        {
          "output_type": "stream",
          "name": "stderr",
          "text": [
            "[nltk_data] Downloading package stopwords to /root/nltk_data...\n",
            "[nltk_data]   Unzipping corpora/stopwords.zip.\n"
          ]
        },
        {
          "output_type": "execute_result",
          "data": {
            "text/plain": [
              "True"
            ]
          },
          "metadata": {},
          "execution_count": 10
        }
      ]
    },
    {
      "cell_type": "markdown",
      "source": [
        "\n",
        "\n",
        "---"
      ],
      "metadata": {
        "id": "t8z0mYw6UdLy"
      }
    },
    {
      "cell_type": "markdown",
      "source": [
        "**transformer les données au format “term\n",
        "frequency-inverse document frequency”.**"
      ],
      "metadata": {
        "id": "MJic8iMtQkoe"
      }
    },
    {
      "cell_type": "code",
      "source": [
        "def get_tf_idf(list_text):\n",
        "  from sklearn.feature_extraction.text import TfidfVectorizer\n",
        "  tr_idf_model   = TfidfVectorizer(stop_words = stopwords.words('english'),min_df = 0.01,max_df = 0.7, use_idf=True, norm=None)\n",
        "  tf_idf_vector = tr_idf_model.fit_transform(list_text)\n",
        "  feature_names = tr_idf_model.get_feature_names_out()\n",
        "  return (tf_idf_vector,feature_names)"
      ],
      "metadata": {
        "id": "fJDhdOhxSxCW"
      },
      "execution_count": null,
      "outputs": []
    },
    {
      "cell_type": "code",
      "source": [
        "X = get_tf_idf(reuters_data)\n",
        "frequences_mots = X[0]\n",
        "mots = X[1]\n"
      ],
      "metadata": {
        "id": "w5aio2yxTOl1"
      },
      "execution_count": null,
      "outputs": []
    },
    {
      "cell_type": "code",
      "source": [
        "print(len(mots))\n",
        "print(mots)"
      ],
      "metadata": {
        "colab": {
          "base_uri": "https://localhost:8080/"
        },
        "id": "NAOaYhZM3rEJ",
        "outputId": "fbe293ce-90f8-4799-ea53-e9bae7390f9d"
      },
      "execution_count": null,
      "outputs": [
        {
          "output_type": "stream",
          "name": "stdout",
          "text": [
            "1202\n",
            "['00' '000' '05' ... 'yet' 'yield' 'york']\n"
          ]
        }
      ]
    },
    {
      "cell_type": "code",
      "source": [
        "print(frequences_mots)"
      ],
      "metadata": {
        "colab": {
          "base_uri": "https://localhost:8080/"
        },
        "id": "5a_cytkY26NN",
        "outputId": "b7bff0f2-9a64-40e5-b47a-bab1a1686cca"
      },
      "execution_count": null,
      "outputs": [
        {
          "output_type": "stream",
          "name": "stdout",
          "text": [
            "  (0, 288)\t3.7268136709670108\n",
            "  (0, 1130)\t3.319210667870321\n",
            "  (0, 228)\t5.493215204604985\n",
            "  (0, 453)\t3.2758505197196466\n",
            "  (0, 481)\t4.647931443589481\n",
            "  (0, 103)\t4.890928026695963\n",
            "  (0, 22)\t3.1077744625607875\n",
            "  (0, 102)\t4.616182745274902\n",
            "  (0, 21)\t2.714483417851489\n",
            "  (0, 10)\t3.6203301905645606\n",
            "  (0, 438)\t4.2532772515855335\n",
            "  (0, 346)\t4.360753530462723\n",
            "  (0, 33)\t10.129013028463874\n",
            "  (0, 1007)\t4.247857184116194\n",
            "  (0, 320)\t4.598757328561042\n",
            "  (0, 49)\t5.046364880333965\n",
            "  (0, 178)\t9.976078626762225\n",
            "  (0, 344)\t8.450288233753922\n",
            "  (0, 37)\t8.108674604024419\n",
            "  (0, 51)\t9.312057307644203\n",
            "  (0, 1117)\t35.93936915594898\n",
            "  (0, 36)\t16.455952042832745\n",
            "  (0, 695)\t8.945013585866056\n",
            "  (0, 176)\t11.94654351967235\n",
            "  (0, 675)\t3.461859849592786\n",
            "  :\t:\n",
            "  (19042, 1115)\t3.036077098243753\n",
            "  (19042, 596)\t5.252388549434708\n",
            "  (19042, 604)\t5.248705304018412\n",
            "  (19042, 361)\t24.468002267653358\n",
            "  (19042, 23)\t8.426650401147636\n",
            "  (19042, 1113)\t4.251919478125073\n",
            "  (19042, 254)\t5.571303641576421\n",
            "  (19042, 560)\t4.858055281695389\n",
            "  (19042, 1196)\t3.4173010034431166\n",
            "  (19042, 61)\t3.258115066250213\n",
            "  (19042, 135)\t3.357300147111092\n",
            "  (19042, 593)\t4.6601019792097365\n",
            "  (19042, 864)\t3.3213485628588466\n",
            "  (19042, 664)\t15.479164200784576\n",
            "  (19042, 1109)\t15.427645549329931\n",
            "  (19042, 488)\t3.0348710679468174\n",
            "  (19042, 1131)\t5.061493761930266\n",
            "  (19042, 445)\t6.338527524677152\n",
            "  (19042, 1071)\t2.9114346530364763\n",
            "  (19042, 433)\t4.6828067729034935\n",
            "  (19042, 629)\t4.3961690869696195\n",
            "  (19042, 1133)\t7.522205488891286\n",
            "  (19042, 22)\t3.1077744625607875\n",
            "  (19042, 748)\t2.613858506939497\n",
            "  (19042, 866)\t6.9286518841759595\n"
          ]
        }
      ]
    },
    {
      "cell_type": "markdown",
      "source": [
        "création de reuters4 et labels4"
      ],
      "metadata": {
        "id": "7RFaU1ZYU-_3"
      }
    },
    {
      "cell_type": "code",
      "source": [
        "'''#Version 1 (une liste de textes)\n",
        "reuters4=df_tf_idf[:400]\n",
        "labels4=[]\n",
        "position = 0\n",
        "for i in range(len(reuters4)//100):\n",
        "  for j in range(100):\n",
        "    if position == 135:\n",
        "      position = 0\n",
        "    labels4.append([reuters_labels[position]])\n",
        "  position+=1'''"
      ],
      "metadata": {
        "id": "dw2qGDKc1JbE",
        "colab": {
          "base_uri": "https://localhost:8080/",
          "height": 53
        },
        "outputId": "932c9268-4170-4f43-dadb-27f4b6ab9502"
      },
      "execution_count": null,
      "outputs": [
        {
          "output_type": "execute_result",
          "data": {
            "text/plain": [
              "'#Version 1 (une liste de textes)\\nreuters4=df_tf_idf[:400]\\nlabels4=[]\\nposition = 0\\nfor i in range(len(reuters4)//100):\\n  for j in range(100):\\n    if position == 135:\\n      position = 0\\n    labels4.append([reuters_labels[position]])\\n  position+=1'"
            ],
            "application/vnd.google.colaboratory.intrinsic+json": {
              "type": "string"
            }
          },
          "metadata": {},
          "execution_count": 15
        }
      ]
    },
    {
      "cell_type": "code",
      "source": [
        "#Version 2 (chaque mot est une colonne)\n",
        "reuters4=frequences_mots[:400]\n",
        "print(reuters4.shape)\n",
        "labels4=[]\n",
        "position = 0\n",
        "for i in range(reuters4.shape[0]//100):\n",
        "  for j in range(100):\n",
        "    if position == 4:\n",
        "      position = 0\n",
        "    labels4.append(reuters_labels[position])\n",
        "  position+=1\n"
      ],
      "metadata": {
        "id": "7rYaKn26ZBff",
        "colab": {
          "base_uri": "https://localhost:8080/"
        },
        "outputId": "6a14469b-c9e9-4479-b67d-868021dc0479"
      },
      "execution_count": null,
      "outputs": [
        {
          "output_type": "stream",
          "name": "stdout",
          "text": [
            "(400, 1202)\n"
          ]
        }
      ]
    },
    {
      "cell_type": "code",
      "source": [
        "print(reuters4)"
      ],
      "metadata": {
        "colab": {
          "base_uri": "https://localhost:8080/"
        },
        "id": "anai8Ej83fLc",
        "outputId": "5cd97e49-3d51-4997-db39-da5369fcae56"
      },
      "execution_count": null,
      "outputs": [
        {
          "output_type": "stream",
          "name": "stdout",
          "text": [
            "  (0, 288)\t3.7268136709670108\n",
            "  (0, 1130)\t3.319210667870321\n",
            "  (0, 228)\t5.493215204604985\n",
            "  (0, 453)\t3.2758505197196466\n",
            "  (0, 481)\t4.647931443589481\n",
            "  (0, 103)\t4.890928026695963\n",
            "  (0, 22)\t3.1077744625607875\n",
            "  (0, 102)\t4.616182745274902\n",
            "  (0, 21)\t2.714483417851489\n",
            "  (0, 10)\t3.6203301905645606\n",
            "  (0, 438)\t4.2532772515855335\n",
            "  (0, 346)\t4.360753530462723\n",
            "  (0, 33)\t10.129013028463874\n",
            "  (0, 1007)\t4.247857184116194\n",
            "  (0, 320)\t4.598757328561042\n",
            "  (0, 49)\t5.046364880333965\n",
            "  (0, 178)\t9.976078626762225\n",
            "  (0, 344)\t8.450288233753922\n",
            "  (0, 37)\t8.108674604024419\n",
            "  (0, 51)\t9.312057307644203\n",
            "  (0, 1117)\t35.93936915594898\n",
            "  (0, 36)\t16.455952042832745\n",
            "  (0, 695)\t8.945013585866056\n",
            "  (0, 176)\t11.94654351967235\n",
            "  (0, 675)\t3.461859849592786\n",
            "  :\t:\n",
            "  (399, 989)\t5.216152700980664\n",
            "  (399, 469)\t4.408787550928831\n",
            "  (399, 966)\t4.916971165231983\n",
            "  (399, 447)\t4.306288267552037\n",
            "  (399, 743)\t4.888360631190717\n",
            "  (399, 1112)\t4.774574175218819\n",
            "  (399, 645)\t4.374462808387756\n",
            "  (399, 487)\t4.568509275805544\n",
            "  (399, 813)\t5.002304890539935\n",
            "  (399, 536)\t12.798361289864355\n",
            "  (399, 799)\t10.172372749041275\n",
            "  (399, 145)\t3.716434336270062\n",
            "  (399, 941)\t5.433972371042124\n",
            "  (399, 655)\t4.445978579254911\n",
            "  (399, 951)\t4.0454680642714305\n",
            "  (399, 1062)\t3.718024161724162\n",
            "  (399, 78)\t4.693300048619333\n",
            "  (399, 736)\t3.7778535548704584\n",
            "  (399, 305)\t4.691192566279768\n",
            "  (399, 289)\t8.65017706410437\n",
            "  (399, 821)\t2.159837673767417\n",
            "  (399, 1194)\t2.5064431419061437\n",
            "  (399, 577)\t4.890928026695963\n",
            "  (399, 630)\t2.6430244538693444\n",
            "  (399, 1195)\t2.1510006008346796\n"
          ]
        }
      ]
    },
    {
      "cell_type": "markdown",
      "source": [
        "Création de reut_train et reut_test"
      ],
      "metadata": {
        "id": "FQLPaKXcVEgZ"
      }
    },
    {
      "cell_type": "code",
      "source": [
        "'''#V1\n",
        "x = (len(reuters_data)-400)%75 #taille de reut_train\n",
        "x=len(reuters_data)-43\n",
        "reut_train=reuters_data[400:x]\n",
        "reut_test=reuters_data[x:]'''"
      ],
      "metadata": {
        "id": "2-R1ZCu-UtNv",
        "colab": {
          "base_uri": "https://localhost:8080/",
          "height": 36
        },
        "outputId": "4b61891d-e4e1-494a-afeb-4ab8ece869ab"
      },
      "execution_count": null,
      "outputs": [
        {
          "output_type": "execute_result",
          "data": {
            "text/plain": [
              "'#V1\\nx = (len(reuters_data)-400)%75 #taille de reut_train\\nx=len(reuters_data)-43\\nreut_train=reuters_data[400:x]\\nreut_test=reuters_data[x:]'"
            ],
            "application/vnd.google.colaboratory.intrinsic+json": {
              "type": "string"
            }
          },
          "metadata": {},
          "execution_count": 18
        }
      ]
    },
    {
      "cell_type": "code",
      "source": [
        "#V2\n",
        "reut_train_taille = 75*4 #taille de reut_train\n",
        "reut_train=frequences_mots[:reut_train_taille]\n",
        "reut_test=frequences_mots[reut_train_taille:400]\n"
      ],
      "metadata": {
        "id": "FubllYqEZXno"
      },
      "execution_count": null,
      "outputs": []
    },
    {
      "cell_type": "code",
      "source": [
        "print(reut_train)"
      ],
      "metadata": {
        "colab": {
          "base_uri": "https://localhost:8080/"
        },
        "id": "WMncHOPL3k5F",
        "outputId": "43e5fd4c-6e1b-422a-9746-50df1bbe4dd2"
      },
      "execution_count": null,
      "outputs": [
        {
          "output_type": "stream",
          "name": "stdout",
          "text": [
            "  (0, 288)\t3.7268136709670108\n",
            "  (0, 1130)\t3.319210667870321\n",
            "  (0, 228)\t5.493215204604985\n",
            "  (0, 453)\t3.2758505197196466\n",
            "  (0, 481)\t4.647931443589481\n",
            "  (0, 103)\t4.890928026695963\n",
            "  (0, 22)\t3.1077744625607875\n",
            "  (0, 102)\t4.616182745274902\n",
            "  (0, 21)\t2.714483417851489\n",
            "  (0, 10)\t3.6203301905645606\n",
            "  (0, 438)\t4.2532772515855335\n",
            "  (0, 346)\t4.360753530462723\n",
            "  (0, 33)\t10.129013028463874\n",
            "  (0, 1007)\t4.247857184116194\n",
            "  (0, 320)\t4.598757328561042\n",
            "  (0, 49)\t5.046364880333965\n",
            "  (0, 178)\t9.976078626762225\n",
            "  (0, 344)\t8.450288233753922\n",
            "  (0, 37)\t8.108674604024419\n",
            "  (0, 51)\t9.312057307644203\n",
            "  (0, 1117)\t35.93936915594898\n",
            "  (0, 36)\t16.455952042832745\n",
            "  (0, 695)\t8.945013585866056\n",
            "  (0, 176)\t11.94654351967235\n",
            "  (0, 675)\t3.461859849592786\n",
            "  :\t:\n",
            "  (298, 691)\t5.777229270459761\n",
            "  (298, 773)\t7.265343090051921\n",
            "  (298, 1007)\t4.247857184116194\n",
            "  (298, 176)\t5.973271759836175\n",
            "  (298, 650)\t5.209060472671172\n",
            "  (298, 1123)\t10.425200598752593\n",
            "  (298, 398)\t7.646094817315047\n",
            "  (298, 824)\t6.459776768310022\n",
            "  (298, 407)\t4.0454680642714305\n",
            "  (299, 626)\t5.4746100167739495\n",
            "  (299, 526)\t9.320203958419473\n",
            "  (299, 634)\t5.507399839596941\n",
            "  (299, 733)\t9.455276372400448\n",
            "  (299, 1125)\t5.137479668908187\n",
            "  (299, 258)\t5.111504182504927\n",
            "  (299, 938)\t4.9908761947163125\n",
            "  (299, 831)\t4.935613516041263\n",
            "  (299, 604)\t5.248705304018412\n",
            "  (299, 1178)\t7.9751481717050545\n",
            "  (299, 354)\t3.967975727783899\n",
            "  (299, 542)\t3.2606295257092914\n",
            "  (299, 175)\t4.282224827620402\n",
            "  (299, 838)\t4.410376113613969\n",
            "  (299, 1082)\t3.9142849011947707\n",
            "  (299, 748)\t2.613858506939497\n"
          ]
        }
      ]
    },
    {
      "cell_type": "code",
      "source": [
        "print(reut_test)"
      ],
      "metadata": {
        "colab": {
          "base_uri": "https://localhost:8080/"
        },
        "id": "hWwFshTc3huG",
        "outputId": "bdd5015e-378d-4f37-8502-596a5ef86f06"
      },
      "execution_count": null,
      "outputs": [
        {
          "output_type": "stream",
          "name": "stdout",
          "text": [
            "  (0, 711)\t16.07201743506362\n",
            "  (0, 1197)\t8.715464760257094\n",
            "  (0, 965)\t5.21971776714516\n",
            "  (0, 348)\t3.993843698866123\n",
            "  (0, 510)\t9.839226349389644\n",
            "  (0, 374)\t15.691469592381212\n",
            "  (0, 389)\t5.23410650459726\n",
            "  (0, 362)\t4.885799810329043\n",
            "  (0, 415)\t4.684896637822954\n",
            "  (0, 370)\t4.23576838679719\n",
            "  (0, 947)\t9.232365490549803\n",
            "  (0, 770)\t7.6704214331987295\n",
            "  (0, 77)\t5.14408035293954\n",
            "  (0, 547)\t4.280827203353764\n",
            "  (0, 645)\t4.374462808387756\n",
            "  (0, 40)\t4.264206322117723\n",
            "  (0, 840)\t18.127768521548504\n",
            "  (0, 531)\t4.723280880831268\n",
            "  (0, 825)\t10.930871280995817\n",
            "  (0, 260)\t4.0344910056402785\n",
            "  (0, 843)\t4.255998341699893\n",
            "  (0, 1016)\t3.8026517473585155\n",
            "  (0, 14)\t3.624668592163159\n",
            "  (0, 919)\t5.101934731488776\n",
            "  (0, 416)\t4.397737714742246\n",
            "  :\t:\n",
            "  (99, 989)\t5.216152700980664\n",
            "  (99, 469)\t4.408787550928831\n",
            "  (99, 966)\t4.916971165231983\n",
            "  (99, 447)\t4.306288267552037\n",
            "  (99, 743)\t4.888360631190717\n",
            "  (99, 1112)\t4.774574175218819\n",
            "  (99, 645)\t4.374462808387756\n",
            "  (99, 487)\t4.568509275805544\n",
            "  (99, 813)\t5.002304890539935\n",
            "  (99, 536)\t12.798361289864355\n",
            "  (99, 799)\t10.172372749041275\n",
            "  (99, 145)\t3.716434336270062\n",
            "  (99, 941)\t5.433972371042124\n",
            "  (99, 655)\t4.445978579254911\n",
            "  (99, 951)\t4.0454680642714305\n",
            "  (99, 1062)\t3.718024161724162\n",
            "  (99, 78)\t4.693300048619333\n",
            "  (99, 736)\t3.7778535548704584\n",
            "  (99, 305)\t4.691192566279768\n",
            "  (99, 289)\t8.65017706410437\n",
            "  (99, 821)\t2.159837673767417\n",
            "  (99, 1194)\t2.5064431419061437\n",
            "  (99, 577)\t4.890928026695963\n",
            "  (99, 630)\t2.6430244538693444\n",
            "  (99, 1195)\t2.1510006008346796\n"
          ]
        }
      ]
    },
    {
      "cell_type": "markdown",
      "source": [
        "Création de labels_train et labels_test"
      ],
      "metadata": {
        "id": "Irg6uQ8yVM4U"
      }
    },
    {
      "cell_type": "code",
      "source": [
        "#V1+V2\n",
        "labels_train=[]\n",
        "labels_test=[]\n",
        "for i in range(reut_train.shape[0]//75):\n",
        "    for j in range(75):\n",
        "      if position == 4:\n",
        "        position = 0\n",
        "      labels_train.append(reuters_labels[position])\n",
        "    position = position+1\n",
        "\n",
        "for i in reut_test:\n",
        "  if position ==4:\n",
        "    position = 0\n",
        "  labels_test.append(reuters_labels[position])\n",
        "  position+=1\n"
      ],
      "metadata": {
        "id": "hZkf676lVMVE"
      },
      "execution_count": null,
      "outputs": []
    },
    {
      "cell_type": "code",
      "source": [
        "print(labels_train)"
      ],
      "metadata": {
        "colab": {
          "base_uri": "https://localhost:8080/"
        },
        "id": "1evguxmi33dk",
        "outputId": "b5da6296-ad76-4769-9655-87867dbd534a"
      },
      "execution_count": null,
      "outputs": [
        {
          "output_type": "stream",
          "name": "stdout",
          "text": [
            "['acq', 'acq', 'acq', 'acq', 'acq', 'acq', 'acq', 'acq', 'acq', 'acq', 'acq', 'acq', 'acq', 'acq', 'acq', 'acq', 'acq', 'acq', 'acq', 'acq', 'acq', 'acq', 'acq', 'acq', 'acq', 'acq', 'acq', 'acq', 'acq', 'acq', 'acq', 'acq', 'acq', 'acq', 'acq', 'acq', 'acq', 'acq', 'acq', 'acq', 'acq', 'acq', 'acq', 'acq', 'acq', 'acq', 'acq', 'acq', 'acq', 'acq', 'acq', 'acq', 'acq', 'acq', 'acq', 'acq', 'acq', 'acq', 'acq', 'acq', 'acq', 'acq', 'acq', 'acq', 'acq', 'acq', 'acq', 'acq', 'acq', 'acq', 'acq', 'acq', 'acq', 'acq', 'acq', 'alum', 'alum', 'alum', 'alum', 'alum', 'alum', 'alum', 'alum', 'alum', 'alum', 'alum', 'alum', 'alum', 'alum', 'alum', 'alum', 'alum', 'alum', 'alum', 'alum', 'alum', 'alum', 'alum', 'alum', 'alum', 'alum', 'alum', 'alum', 'alum', 'alum', 'alum', 'alum', 'alum', 'alum', 'alum', 'alum', 'alum', 'alum', 'alum', 'alum', 'alum', 'alum', 'alum', 'alum', 'alum', 'alum', 'alum', 'alum', 'alum', 'alum', 'alum', 'alum', 'alum', 'alum', 'alum', 'alum', 'alum', 'alum', 'alum', 'alum', 'alum', 'alum', 'alum', 'alum', 'alum', 'alum', 'alum', 'alum', 'alum', 'alum', 'alum', 'alum', 'alum', 'alum', 'alum', 'austdlr', 'austdlr', 'austdlr', 'austdlr', 'austdlr', 'austdlr', 'austdlr', 'austdlr', 'austdlr', 'austdlr', 'austdlr', 'austdlr', 'austdlr', 'austdlr', 'austdlr', 'austdlr', 'austdlr', 'austdlr', 'austdlr', 'austdlr', 'austdlr', 'austdlr', 'austdlr', 'austdlr', 'austdlr', 'austdlr', 'austdlr', 'austdlr', 'austdlr', 'austdlr', 'austdlr', 'austdlr', 'austdlr', 'austdlr', 'austdlr', 'austdlr', 'austdlr', 'austdlr', 'austdlr', 'austdlr', 'austdlr', 'austdlr', 'austdlr', 'austdlr', 'austdlr', 'austdlr', 'austdlr', 'austdlr', 'austdlr', 'austdlr', 'austdlr', 'austdlr', 'austdlr', 'austdlr', 'austdlr', 'austdlr', 'austdlr', 'austdlr', 'austdlr', 'austdlr', 'austdlr', 'austdlr', 'austdlr', 'austdlr', 'austdlr', 'austdlr', 'austdlr', 'austdlr', 'austdlr', 'austdlr', 'austdlr', 'austdlr', 'austdlr', 'austdlr', 'austdlr', 'austral', 'austral', 'austral', 'austral', 'austral', 'austral', 'austral', 'austral', 'austral', 'austral', 'austral', 'austral', 'austral', 'austral', 'austral', 'austral', 'austral', 'austral', 'austral', 'austral', 'austral', 'austral', 'austral', 'austral', 'austral', 'austral', 'austral', 'austral', 'austral', 'austral', 'austral', 'austral', 'austral', 'austral', 'austral', 'austral', 'austral', 'austral', 'austral', 'austral', 'austral', 'austral', 'austral', 'austral', 'austral', 'austral', 'austral', 'austral', 'austral', 'austral', 'austral', 'austral', 'austral', 'austral', 'austral', 'austral', 'austral', 'austral', 'austral', 'austral', 'austral', 'austral', 'austral', 'austral', 'austral', 'austral', 'austral', 'austral', 'austral', 'austral', 'austral', 'austral', 'austral', 'austral', 'austral']\n"
          ]
        }
      ]
    },
    {
      "cell_type": "markdown",
      "source": [
        "Comparaison des matrices étiquettes et matrices de données."
      ],
      "metadata": {
        "id": "DdgpZFFcVcNQ"
      }
    },
    {
      "cell_type": "code",
      "source": [
        "print(reuters4.shape[0])\n",
        "print(len(labels4))\n",
        "print(reut_train.shape[0])\n",
        "print(len(labels_train))\n",
        "print(reut_test.shape[0])\n",
        "print(len(labels_test))"
      ],
      "metadata": {
        "colab": {
          "base_uri": "https://localhost:8080/"
        },
        "id": "te9jyXWcUwNY",
        "outputId": "776c997f-7463-445a-fe14-3e791d8c36b9"
      },
      "execution_count": null,
      "outputs": [
        {
          "output_type": "stream",
          "name": "stdout",
          "text": [
            "400\n",
            "400\n",
            "300\n",
            "300\n",
            "100\n",
            "100\n"
          ]
        }
      ]
    },
    {
      "cell_type": "markdown",
      "source": [
        "Création d'une matrice de label englobant nos 19043 textes pour faire ensuite l'affichage."
      ],
      "metadata": {
        "id": "viNun0-6Zu8B"
      }
    },
    {
      "cell_type": "code",
      "source": [
        "#pour la pca\n",
        "reut_label_t = labels4 + labels_train + labels_test\n",
        "print(len(reut_label_t))"
      ],
      "metadata": {
        "colab": {
          "base_uri": "https://localhost:8080/"
        },
        "id": "CJWPqJbAZuUi",
        "outputId": "b56a4f63-0ae4-47ea-e6c5-773fa9d4ed77"
      },
      "execution_count": null,
      "outputs": [
        {
          "output_type": "stream",
          "name": "stdout",
          "text": [
            "800\n"
          ]
        }
      ]
    },
    {
      "cell_type": "markdown",
      "source": [
        "fonction réduisant notre matrice à k dimensions (cette fonction ne fonctionne qu'avec une liste de texte cependant car nous utilisons \"TfidfVectorizer\"."
      ],
      "metadata": {
        "id": "CP8jA5P0aCte"
      }
    },
    {
      "cell_type": "code",
      "source": [
        "def frequent_terms(frequences_mots,mots,k):\n",
        "  tf_idf_array = frequences_mots.toarray()\n",
        "  import pandas as pd\n",
        "  df_tf_idf = pd.DataFrame(tf_idf_array, columns = mots)\n",
        "  ###########################################################################most_frequent_words\n",
        "  word_global_frequency = {}#dictionnaire des mots avec pour chaque mot sa fréquence.\n",
        "  for word in df_tf_idf:\n",
        "    word_global_frequency[word]=0 # valeurs par défaut de la fréquence du mot\n",
        "    for val in df_tf_idf[word]:\n",
        "      word_global_frequency[word]+=val # chaque fois que l'on trouve le mot, incrémenter\n",
        "  for word in word_global_frequency:\n",
        "    word_global_frequency[word]/=19043#diviser la fréquence d'apparition des mots par le nombre de textes.\n",
        "  ###########################################################################\n",
        "  key_table = []\n",
        "  value_table = []\n",
        "  i = 0\n",
        "  while i != k:# prendre le max k fois depuis notre dictionnaire de fréquences.\n",
        "    max_key = max(word_global_frequency, key=word_global_frequency.get)\n",
        "    if len(max_key) >=4:\n",
        "      key_table.append(max_key)\n",
        "    else:\n",
        "      i-=1\n",
        "    del word_global_frequency[max_key]\n",
        "    i+=1\n",
        "  retour = {}\n",
        "  for key in key_table:\n",
        "    retour[key]=df_tf_idf[key]\n",
        "  return retour\n"
      ],
      "metadata": {
        "id": "L9RPzXyuUQd3"
      },
      "execution_count": null,
      "outputs": []
    },
    {
      "cell_type": "markdown",
      "source": [
        "On appelle la fonction pour réduire la matrice à 3 dimensions."
      ],
      "metadata": {
        "id": "Wywj5_oSaNxt"
      }
    },
    {
      "cell_type": "code",
      "source": [
        "D = frequent_terms(frequences_mots,mots,3) #matrice avec touts les textes"
      ],
      "metadata": {
        "id": "-FeFCGgZ8hki"
      },
      "execution_count": null,
      "outputs": []
    },
    {
      "cell_type": "code",
      "source": [
        "D.keys() #nos 3 mots les plus fréquents"
      ],
      "metadata": {
        "colab": {
          "base_uri": "https://localhost:8080/"
        },
        "id": "wE_34C2j8nCJ",
        "outputId": "739a9e70-6e78-4fb2-ad03-565cd36078b3"
      },
      "execution_count": null,
      "outputs": [
        {
          "output_type": "execute_result",
          "data": {
            "text/plain": [
              "dict_keys(['dlrs', 'billion', 'year'])"
            ]
          },
          "metadata": {},
          "execution_count": 28
        }
      ]
    },
    {
      "cell_type": "code",
      "source": [
        "D2 = frequent_terms(reuters4,mots,3) #matrice de 400 textes"
      ],
      "metadata": {
        "id": "epcYU58NdWDd"
      },
      "execution_count": null,
      "outputs": []
    },
    {
      "cell_type": "code",
      "source": [
        "D2.keys()"
      ],
      "metadata": {
        "colab": {
          "base_uri": "https://localhost:8080/"
        },
        "id": "1y2R6amddj8_",
        "outputId": "3b4c6e06-f116-40a3-c9d5-86a86ad7bb68"
      },
      "execution_count": null,
      "outputs": [
        {
          "output_type": "execute_result",
          "data": {
            "text/plain": [
              "dict_keys(['dlrs', 'billion', 'year'])"
            ]
          },
          "metadata": {},
          "execution_count": 30
        }
      ]
    },
    {
      "cell_type": "code",
      "source": [
        "df = pd.DataFrame(D) #transformation en dataframe pour la pca.\n",
        "df"
      ],
      "metadata": {
        "colab": {
          "base_uri": "https://localhost:8080/",
          "height": 424
        },
        "id": "VQ1xmeEDC-h4",
        "outputId": "a079cef3-d7ca-4bdf-bca4-55e5525448c9"
      },
      "execution_count": null,
      "outputs": [
        {
          "output_type": "execute_result",
          "data": {
            "text/plain": [
              "            dlrs  billion      year\n",
              "0      26.761332  0.00000  4.302001\n",
              "1       0.000000  0.00000  0.000000\n",
              "2       3.823047  5.54174  0.000000\n",
              "3       5.734571  5.54174  2.151001\n",
              "4       3.823047  0.00000  0.000000\n",
              "...          ...      ...       ...\n",
              "19038   0.000000  0.00000  0.000000\n",
              "19039   0.000000  2.77087  6.453002\n",
              "19040   0.000000  0.00000  0.000000\n",
              "19041   0.000000  0.00000  0.000000\n",
              "19042   0.000000  0.00000  0.000000\n",
              "\n",
              "[19043 rows x 3 columns]"
            ],
            "text/html": [
              "\n",
              "  <div id=\"df-eac038f2-a746-400a-8884-d093a6143ddc\">\n",
              "    <div class=\"colab-df-container\">\n",
              "      <div>\n",
              "<style scoped>\n",
              "    .dataframe tbody tr th:only-of-type {\n",
              "        vertical-align: middle;\n",
              "    }\n",
              "\n",
              "    .dataframe tbody tr th {\n",
              "        vertical-align: top;\n",
              "    }\n",
              "\n",
              "    .dataframe thead th {\n",
              "        text-align: right;\n",
              "    }\n",
              "</style>\n",
              "<table border=\"1\" class=\"dataframe\">\n",
              "  <thead>\n",
              "    <tr style=\"text-align: right;\">\n",
              "      <th></th>\n",
              "      <th>dlrs</th>\n",
              "      <th>billion</th>\n",
              "      <th>year</th>\n",
              "    </tr>\n",
              "  </thead>\n",
              "  <tbody>\n",
              "    <tr>\n",
              "      <th>0</th>\n",
              "      <td>26.761332</td>\n",
              "      <td>0.00000</td>\n",
              "      <td>4.302001</td>\n",
              "    </tr>\n",
              "    <tr>\n",
              "      <th>1</th>\n",
              "      <td>0.000000</td>\n",
              "      <td>0.00000</td>\n",
              "      <td>0.000000</td>\n",
              "    </tr>\n",
              "    <tr>\n",
              "      <th>2</th>\n",
              "      <td>3.823047</td>\n",
              "      <td>5.54174</td>\n",
              "      <td>0.000000</td>\n",
              "    </tr>\n",
              "    <tr>\n",
              "      <th>3</th>\n",
              "      <td>5.734571</td>\n",
              "      <td>5.54174</td>\n",
              "      <td>2.151001</td>\n",
              "    </tr>\n",
              "    <tr>\n",
              "      <th>4</th>\n",
              "      <td>3.823047</td>\n",
              "      <td>0.00000</td>\n",
              "      <td>0.000000</td>\n",
              "    </tr>\n",
              "    <tr>\n",
              "      <th>...</th>\n",
              "      <td>...</td>\n",
              "      <td>...</td>\n",
              "      <td>...</td>\n",
              "    </tr>\n",
              "    <tr>\n",
              "      <th>19038</th>\n",
              "      <td>0.000000</td>\n",
              "      <td>0.00000</td>\n",
              "      <td>0.000000</td>\n",
              "    </tr>\n",
              "    <tr>\n",
              "      <th>19039</th>\n",
              "      <td>0.000000</td>\n",
              "      <td>2.77087</td>\n",
              "      <td>6.453002</td>\n",
              "    </tr>\n",
              "    <tr>\n",
              "      <th>19040</th>\n",
              "      <td>0.000000</td>\n",
              "      <td>0.00000</td>\n",
              "      <td>0.000000</td>\n",
              "    </tr>\n",
              "    <tr>\n",
              "      <th>19041</th>\n",
              "      <td>0.000000</td>\n",
              "      <td>0.00000</td>\n",
              "      <td>0.000000</td>\n",
              "    </tr>\n",
              "    <tr>\n",
              "      <th>19042</th>\n",
              "      <td>0.000000</td>\n",
              "      <td>0.00000</td>\n",
              "      <td>0.000000</td>\n",
              "    </tr>\n",
              "  </tbody>\n",
              "</table>\n",
              "<p>19043 rows × 3 columns</p>\n",
              "</div>\n",
              "      <button class=\"colab-df-convert\" onclick=\"convertToInteractive('df-eac038f2-a746-400a-8884-d093a6143ddc')\"\n",
              "              title=\"Convert this dataframe to an interactive table.\"\n",
              "              style=\"display:none;\">\n",
              "        \n",
              "  <svg xmlns=\"http://www.w3.org/2000/svg\" height=\"24px\"viewBox=\"0 0 24 24\"\n",
              "       width=\"24px\">\n",
              "    <path d=\"M0 0h24v24H0V0z\" fill=\"none\"/>\n",
              "    <path d=\"M18.56 5.44l.94 2.06.94-2.06 2.06-.94-2.06-.94-.94-2.06-.94 2.06-2.06.94zm-11 1L8.5 8.5l.94-2.06 2.06-.94-2.06-.94L8.5 2.5l-.94 2.06-2.06.94zm10 10l.94 2.06.94-2.06 2.06-.94-2.06-.94-.94-2.06-.94 2.06-2.06.94z\"/><path d=\"M17.41 7.96l-1.37-1.37c-.4-.4-.92-.59-1.43-.59-.52 0-1.04.2-1.43.59L10.3 9.45l-7.72 7.72c-.78.78-.78 2.05 0 2.83L4 21.41c.39.39.9.59 1.41.59.51 0 1.02-.2 1.41-.59l7.78-7.78 2.81-2.81c.8-.78.8-2.07 0-2.86zM5.41 20L4 18.59l7.72-7.72 1.47 1.35L5.41 20z\"/>\n",
              "  </svg>\n",
              "      </button>\n",
              "      \n",
              "  <style>\n",
              "    .colab-df-container {\n",
              "      display:flex;\n",
              "      flex-wrap:wrap;\n",
              "      gap: 12px;\n",
              "    }\n",
              "\n",
              "    .colab-df-convert {\n",
              "      background-color: #E8F0FE;\n",
              "      border: none;\n",
              "      border-radius: 50%;\n",
              "      cursor: pointer;\n",
              "      display: none;\n",
              "      fill: #1967D2;\n",
              "      height: 32px;\n",
              "      padding: 0 0 0 0;\n",
              "      width: 32px;\n",
              "    }\n",
              "\n",
              "    .colab-df-convert:hover {\n",
              "      background-color: #E2EBFA;\n",
              "      box-shadow: 0px 1px 2px rgba(60, 64, 67, 0.3), 0px 1px 3px 1px rgba(60, 64, 67, 0.15);\n",
              "      fill: #174EA6;\n",
              "    }\n",
              "\n",
              "    [theme=dark] .colab-df-convert {\n",
              "      background-color: #3B4455;\n",
              "      fill: #D2E3FC;\n",
              "    }\n",
              "\n",
              "    [theme=dark] .colab-df-convert:hover {\n",
              "      background-color: #434B5C;\n",
              "      box-shadow: 0px 1px 3px 1px rgba(0, 0, 0, 0.15);\n",
              "      filter: drop-shadow(0px 1px 2px rgba(0, 0, 0, 0.3));\n",
              "      fill: #FFFFFF;\n",
              "    }\n",
              "  </style>\n",
              "\n",
              "      <script>\n",
              "        const buttonEl =\n",
              "          document.querySelector('#df-eac038f2-a746-400a-8884-d093a6143ddc button.colab-df-convert');\n",
              "        buttonEl.style.display =\n",
              "          google.colab.kernel.accessAllowed ? 'block' : 'none';\n",
              "\n",
              "        async function convertToInteractive(key) {\n",
              "          const element = document.querySelector('#df-eac038f2-a746-400a-8884-d093a6143ddc');\n",
              "          const dataTable =\n",
              "            await google.colab.kernel.invokeFunction('convertToInteractive',\n",
              "                                                     [key], {});\n",
              "          if (!dataTable) return;\n",
              "\n",
              "          const docLinkHtml = 'Like what you see? Visit the ' +\n",
              "            '<a target=\"_blank\" href=https://colab.research.google.com/notebooks/data_table.ipynb>data table notebook</a>'\n",
              "            + ' to learn more about interactive tables.';\n",
              "          element.innerHTML = '';\n",
              "          dataTable['output_type'] = 'display_data';\n",
              "          await google.colab.output.renderOutput(dataTable, element);\n",
              "          const docLink = document.createElement('div');\n",
              "          docLink.innerHTML = docLinkHtml;\n",
              "          element.appendChild(docLink);\n",
              "        }\n",
              "      </script>\n",
              "    </div>\n",
              "  </div>\n",
              "  "
            ]
          },
          "metadata": {},
          "execution_count": 31
        }
      ]
    },
    {
      "cell_type": "code",
      "source": [
        "df2 = pd.DataFrame(D2) #transformation en dataframe pour la pca.\n",
        "df2"
      ],
      "metadata": {
        "colab": {
          "base_uri": "https://localhost:8080/",
          "height": 424
        },
        "id": "CgEAkNhCdOeZ",
        "outputId": "f23f13d6-4ea8-439a-fc53-9396b34520ab"
      },
      "execution_count": null,
      "outputs": [
        {
          "output_type": "execute_result",
          "data": {
            "text/plain": [
              "          dlrs  billion      year\n",
              "0    26.761332  0.00000  4.302001\n",
              "1     0.000000  0.00000  0.000000\n",
              "2     3.823047  5.54174  0.000000\n",
              "3     5.734571  5.54174  2.151001\n",
              "4     3.823047  0.00000  0.000000\n",
              "..         ...      ...       ...\n",
              "395   3.823047  0.00000  0.000000\n",
              "396   1.911524  2.77087  2.151001\n",
              "397   1.911524  0.00000  0.000000\n",
              "398   0.000000  0.00000  4.302001\n",
              "399   0.000000  0.00000  2.151001\n",
              "\n",
              "[400 rows x 3 columns]"
            ],
            "text/html": [
              "\n",
              "  <div id=\"df-71393882-2e12-4d8f-b7a3-2089d7da64fb\">\n",
              "    <div class=\"colab-df-container\">\n",
              "      <div>\n",
              "<style scoped>\n",
              "    .dataframe tbody tr th:only-of-type {\n",
              "        vertical-align: middle;\n",
              "    }\n",
              "\n",
              "    .dataframe tbody tr th {\n",
              "        vertical-align: top;\n",
              "    }\n",
              "\n",
              "    .dataframe thead th {\n",
              "        text-align: right;\n",
              "    }\n",
              "</style>\n",
              "<table border=\"1\" class=\"dataframe\">\n",
              "  <thead>\n",
              "    <tr style=\"text-align: right;\">\n",
              "      <th></th>\n",
              "      <th>dlrs</th>\n",
              "      <th>billion</th>\n",
              "      <th>year</th>\n",
              "    </tr>\n",
              "  </thead>\n",
              "  <tbody>\n",
              "    <tr>\n",
              "      <th>0</th>\n",
              "      <td>26.761332</td>\n",
              "      <td>0.00000</td>\n",
              "      <td>4.302001</td>\n",
              "    </tr>\n",
              "    <tr>\n",
              "      <th>1</th>\n",
              "      <td>0.000000</td>\n",
              "      <td>0.00000</td>\n",
              "      <td>0.000000</td>\n",
              "    </tr>\n",
              "    <tr>\n",
              "      <th>2</th>\n",
              "      <td>3.823047</td>\n",
              "      <td>5.54174</td>\n",
              "      <td>0.000000</td>\n",
              "    </tr>\n",
              "    <tr>\n",
              "      <th>3</th>\n",
              "      <td>5.734571</td>\n",
              "      <td>5.54174</td>\n",
              "      <td>2.151001</td>\n",
              "    </tr>\n",
              "    <tr>\n",
              "      <th>4</th>\n",
              "      <td>3.823047</td>\n",
              "      <td>0.00000</td>\n",
              "      <td>0.000000</td>\n",
              "    </tr>\n",
              "    <tr>\n",
              "      <th>...</th>\n",
              "      <td>...</td>\n",
              "      <td>...</td>\n",
              "      <td>...</td>\n",
              "    </tr>\n",
              "    <tr>\n",
              "      <th>395</th>\n",
              "      <td>3.823047</td>\n",
              "      <td>0.00000</td>\n",
              "      <td>0.000000</td>\n",
              "    </tr>\n",
              "    <tr>\n",
              "      <th>396</th>\n",
              "      <td>1.911524</td>\n",
              "      <td>2.77087</td>\n",
              "      <td>2.151001</td>\n",
              "    </tr>\n",
              "    <tr>\n",
              "      <th>397</th>\n",
              "      <td>1.911524</td>\n",
              "      <td>0.00000</td>\n",
              "      <td>0.000000</td>\n",
              "    </tr>\n",
              "    <tr>\n",
              "      <th>398</th>\n",
              "      <td>0.000000</td>\n",
              "      <td>0.00000</td>\n",
              "      <td>4.302001</td>\n",
              "    </tr>\n",
              "    <tr>\n",
              "      <th>399</th>\n",
              "      <td>0.000000</td>\n",
              "      <td>0.00000</td>\n",
              "      <td>2.151001</td>\n",
              "    </tr>\n",
              "  </tbody>\n",
              "</table>\n",
              "<p>400 rows × 3 columns</p>\n",
              "</div>\n",
              "      <button class=\"colab-df-convert\" onclick=\"convertToInteractive('df-71393882-2e12-4d8f-b7a3-2089d7da64fb')\"\n",
              "              title=\"Convert this dataframe to an interactive table.\"\n",
              "              style=\"display:none;\">\n",
              "        \n",
              "  <svg xmlns=\"http://www.w3.org/2000/svg\" height=\"24px\"viewBox=\"0 0 24 24\"\n",
              "       width=\"24px\">\n",
              "    <path d=\"M0 0h24v24H0V0z\" fill=\"none\"/>\n",
              "    <path d=\"M18.56 5.44l.94 2.06.94-2.06 2.06-.94-2.06-.94-.94-2.06-.94 2.06-2.06.94zm-11 1L8.5 8.5l.94-2.06 2.06-.94-2.06-.94L8.5 2.5l-.94 2.06-2.06.94zm10 10l.94 2.06.94-2.06 2.06-.94-2.06-.94-.94-2.06-.94 2.06-2.06.94z\"/><path d=\"M17.41 7.96l-1.37-1.37c-.4-.4-.92-.59-1.43-.59-.52 0-1.04.2-1.43.59L10.3 9.45l-7.72 7.72c-.78.78-.78 2.05 0 2.83L4 21.41c.39.39.9.59 1.41.59.51 0 1.02-.2 1.41-.59l7.78-7.78 2.81-2.81c.8-.78.8-2.07 0-2.86zM5.41 20L4 18.59l7.72-7.72 1.47 1.35L5.41 20z\"/>\n",
              "  </svg>\n",
              "      </button>\n",
              "      \n",
              "  <style>\n",
              "    .colab-df-container {\n",
              "      display:flex;\n",
              "      flex-wrap:wrap;\n",
              "      gap: 12px;\n",
              "    }\n",
              "\n",
              "    .colab-df-convert {\n",
              "      background-color: #E8F0FE;\n",
              "      border: none;\n",
              "      border-radius: 50%;\n",
              "      cursor: pointer;\n",
              "      display: none;\n",
              "      fill: #1967D2;\n",
              "      height: 32px;\n",
              "      padding: 0 0 0 0;\n",
              "      width: 32px;\n",
              "    }\n",
              "\n",
              "    .colab-df-convert:hover {\n",
              "      background-color: #E2EBFA;\n",
              "      box-shadow: 0px 1px 2px rgba(60, 64, 67, 0.3), 0px 1px 3px 1px rgba(60, 64, 67, 0.15);\n",
              "      fill: #174EA6;\n",
              "    }\n",
              "\n",
              "    [theme=dark] .colab-df-convert {\n",
              "      background-color: #3B4455;\n",
              "      fill: #D2E3FC;\n",
              "    }\n",
              "\n",
              "    [theme=dark] .colab-df-convert:hover {\n",
              "      background-color: #434B5C;\n",
              "      box-shadow: 0px 1px 3px 1px rgba(0, 0, 0, 0.15);\n",
              "      filter: drop-shadow(0px 1px 2px rgba(0, 0, 0, 0.3));\n",
              "      fill: #FFFFFF;\n",
              "    }\n",
              "  </style>\n",
              "\n",
              "      <script>\n",
              "        const buttonEl =\n",
              "          document.querySelector('#df-71393882-2e12-4d8f-b7a3-2089d7da64fb button.colab-df-convert');\n",
              "        buttonEl.style.display =\n",
              "          google.colab.kernel.accessAllowed ? 'block' : 'none';\n",
              "\n",
              "        async function convertToInteractive(key) {\n",
              "          const element = document.querySelector('#df-71393882-2e12-4d8f-b7a3-2089d7da64fb');\n",
              "          const dataTable =\n",
              "            await google.colab.kernel.invokeFunction('convertToInteractive',\n",
              "                                                     [key], {});\n",
              "          if (!dataTable) return;\n",
              "\n",
              "          const docLinkHtml = 'Like what you see? Visit the ' +\n",
              "            '<a target=\"_blank\" href=https://colab.research.google.com/notebooks/data_table.ipynb>data table notebook</a>'\n",
              "            + ' to learn more about interactive tables.';\n",
              "          element.innerHTML = '';\n",
              "          dataTable['output_type'] = 'display_data';\n",
              "          await google.colab.output.renderOutput(dataTable, element);\n",
              "          const docLink = document.createElement('div');\n",
              "          docLink.innerHTML = docLinkHtml;\n",
              "          element.appendChild(docLink);\n",
              "        }\n",
              "      </script>\n",
              "    </div>\n",
              "  </div>\n",
              "  "
            ]
          },
          "metadata": {},
          "execution_count": 32
        }
      ]
    },
    {
      "cell_type": "markdown",
      "source": [
        "Fonction PlotClusters"
      ],
      "metadata": {
        "id": "L6lPGEQCafC9"
      }
    },
    {
      "cell_type": "code",
      "source": [
        "from sklearn.decomposition import PCA\n",
        "def PlotClusters(docs,labels,elev,azim):\n",
        "  pca = PCA(n_components=3)\n",
        "  principalComponents = pca.fit_transform(docs)\n",
        "  principalDf = pd.DataFrame(data = principalComponents,columns = ['principal component 1', 'principal component 2','principal component 3'])\n",
        "  fig = plt.figure(figsize=(8,8))\n",
        "  ax = fig.add_subplot(111,projection='3d')\n",
        "  ax.set_xlabel(docs.columns[0], fontsize = 15)\n",
        "  ax.set_ylabel(docs.columns[1], fontsize = 15)\n",
        "  ax.set_zlabel(docs.columns[2], fontsize = 15)\n",
        "  ax.set_title(' PCA de 3 composants ',fontsize=20)\n",
        "  principalDf['labels']=labels\n",
        "\n",
        "  ################################\n",
        "  targets = [0,1,2,3]\n",
        "  cats =[\"corn\",\"interest\",\"ship\",\"gold\"]\n",
        "  colors = ['r','g','b','y']\n",
        "  for target , color in zip(targets,colors):\n",
        "      indicesToKeep = principalDf['labels'] == target\n",
        "      ax.scatter(principalDf.loc[indicesToKeep,'principal component 1'],principalDf.loc[indicesToKeep,'principal component 2'],principalDf.loc[indicesToKeep,'principal component 3'],c =color,s=30)\n",
        "      ax.legend(targets)\n",
        "      ax.grid(cats)\n",
        "  ax.view_init(elev, azim)"
      ],
      "metadata": {
        "id": "r91nkW5VDYjn"
      },
      "execution_count": null,
      "outputs": []
    },
    {
      "cell_type": "markdown",
      "source": [
        "136 labels (pas tous affichés)"
      ],
      "metadata": {
        "id": "WY-7-hYMe5Wh"
      }
    },
    {
      "cell_type": "markdown",
      "source": [
        "4 labels (tous affichés)"
      ],
      "metadata": {
        "id": "0shYGJB0e-TG"
      }
    },
    {
      "cell_type": "code",
      "source": [
        "PlotClusters(df2,labels4,0,0)\n",
        "PlotClusters(df2,labels4,10,20)\n",
        "PlotClusters(df2,labels4,20,30)"
      ],
      "metadata": {
        "colab": {
          "base_uri": "https://localhost:8080/",
          "height": 1000
        },
        "id": "q1QXHsv-drbZ",
        "outputId": "ca51033b-7022-4fec-e027-0100d91bb00c"
      },
      "execution_count": null,
      "outputs": [
        {
          "output_type": "display_data",
          "data": {
            "text/plain": [
              "<Figure size 576x576 with 1 Axes>"
            ],
            "image/png": "[encoded data removed]"
          },
          "metadata": {
            "needs_background": "light"
          }
        },
        {
          "output_type": "display_data",
          "data": {
            "text/plain": [
              "<Figure size 576x576 with 1 Axes>"
            ],
            "image/png": "[encoded data removed]"
          },
          "metadata": {
            "needs_background": "light"
          }
        },
        {
          "output_type": "display_data",
          "data": {
            "text/plain": [
              "<Figure size 576x576 with 1 Axes>"
            ],
            "image/png": "[encoded data removed]"
          },
          "metadata": {
            "needs_background": "light"
          }
        }
      ]
    },
    {
      "cell_type": "markdown",
      "source": [],
      "metadata": {
        "id": "ouqM16JFCbyz"
      }
    },
    {
      "cell_type": "markdown",
      "source": [
        "# Partie 2"
      ],
      "metadata": {
        "id": "NBU8BhQZz2iA"
      }
    },
    {
      "cell_type": "code",
      "source": [
        "def show_clusters(H):#On cherche un  ́element maximal dans chaque ligne et on le remplace par 1. Tous les autres  ́elements sont remplaces par 0.\n",
        "  for i in range(H.shape[0]) :\n",
        "      max_v = None\n",
        "      for j in range(H.shape[1]-1): #change\n",
        "              if max_v is None or H[i][j] > max_v :\n",
        "                  max_v = H[i][j]\n",
        "                  i1= i\n",
        "                  j1=j\n",
        "                  H[i][j] = 0\n",
        "\n",
        "              if  H[i][j] < max_v :\n",
        "\n",
        "                  H[i][j] = 0\n",
        "\n",
        "      H[i1][j1]=1\n",
        "  return H"
      ],
      "metadata": {
        "id": "hAa3XPTI5fVS"
      },
      "execution_count": null,
      "outputs": []
    },
    {
      "cell_type": "code",
      "source": [
        "import numpy as np\n",
        "from sklearn.feature_extraction.text import TfidfVectorizer\n",
        "from sklearn.decomposition import NMF\n",
        "model = NMF(n_components=4, init='random', random_state=0)\n",
        "W_train = model.fit_transform(reut_train)\n",
        "print(\"------------------reut_train=\",reut_train.shape)\n",
        "H = model.components_\n",
        "#https://scikit-learn.org/stable/modules/generated/sklearn.decomposition.NMF.html\n",
        "H = show_clusters(H)\n",
        "print(H.shape)\n",
        "H_inverse = np.linalg.pinv(H)\n",
        "print(\"reut_test :\",reut_test.shape,\" H_inverse:\",H_inverse.shape)\n",
        "H_test = reut_test @ H_inverse"
      ],
      "metadata": {
        "colab": {
          "base_uri": "https://localhost:8080/"
        },
        "id": "vY2TQ_a3vMjF",
        "outputId": "81c24746-5384-470c-fdb0-22ef2e699677"
      },
      "execution_count": null,
      "outputs": [
        {
          "output_type": "stream",
          "name": "stdout",
          "text": [
            "------------------reut_train= (300, 1202)\n",
            "(4, 1202)\n",
            "reut_test : (100, 1202)  H_inverse: (1202, 4)\n"
          ]
        }
      ]
    },
    {
      "cell_type": "code",
      "source": [
        "print(W_train.shape)\n",
        "print(H.shape)\n",
        "B = np.linalg.pinv(W_train)\n",
        "print(B.shape)\n",
        "print(reut_test.shape)\n",
        "print(reut_train.shape)\n",
        "\n",
        "print(reuters4.shape)"
      ],
      "metadata": {
        "colab": {
          "base_uri": "https://localhost:8080/"
        },
        "id": "bQNE7amZ-YWu",
        "outputId": "75506563-c03b-4bb1-a5f8-f1d496fa0f37"
      },
      "execution_count": null,
      "outputs": [
        {
          "output_type": "stream",
          "name": "stdout",
          "text": [
            "(300, 4)\n",
            "(4, 1202)\n",
            "(4, 300)\n",
            "(100, 1202)\n",
            "(300, 1202)\n",
            "(400, 1202)\n"
          ]
        }
      ]
    },
    {
      "cell_type": "code",
      "source": [
        "for i in range(H.shape[0]) :\n",
        "    for j in range(H.shape[1]-1):\n",
        "        if H[i][j] == 1 :\n",
        "            print(i, j, '=', H[i][j])"
      ],
      "metadata": {
        "colab": {
          "base_uri": "https://localhost:8080/"
        },
        "id": "EDSidScH7AuL",
        "outputId": "d4b4879d-5a9b-4824-afbf-1ed93dd1ac86"
      },
      "execution_count": null,
      "outputs": [
        {
          "output_type": "stream",
          "name": "stdout",
          "text": [
            "0 821 = 1.0\n",
            "1 1124 = 1.0\n",
            "2 1174 = 1.0\n",
            "3 1165 = 1.0\n"
          ]
        }
      ]
    },
    {
      "cell_type": "code",
      "source": [
        "from sklearn.metrics import accuracy_score"
      ],
      "metadata": {
        "id": "AHQCE4zDc_5q"
      },
      "execution_count": null,
      "outputs": []
    },
    {
      "cell_type": "markdown",
      "source": [
        "Question d"
      ],
      "metadata": {
        "id": "T1yyt7-SQPdC"
      }
    },
    {
      "cell_type": "code",
      "source": [
        "print(\"(l’indice DB de Davies et Bouldin\",metrics.davies_bouldin_score(H_test, labels_test))\n",
        "print(\"l’indice CH de Calinsky et Harabsz\",metrics.calinski_harabasz_score(H_test, labels_test))"
      ],
      "metadata": {
        "colab": {
          "base_uri": "https://localhost:8080/"
        },
        "id": "2QaOjBfvOSUd",
        "outputId": "636987f6-be9a-463d-d925-7d19f57006df"
      },
      "execution_count": null,
      "outputs": [
        {
          "output_type": "stream",
          "name": "stdout",
          "text": [
            "(l’indice DB de Davies et Bouldin 7.020570745175145\n",
            "l’indice CH de Calinsky et Harabsz 0.786274153814816\n"
          ]
        }
      ]
    },
    {
      "cell_type": "code",
      "source": [
        "from sklearn import datasets\n",
        "from sklearn.cluster import KMeans\n",
        "from sklearn import metrics\n",
        "from sklearn.metrics import pairwise_distances\n",
        "import numpy as np\n",
        "\n",
        "# loading the dataset\n",
        "X, y = datasets.load_iris(return_X_y=True)\n",
        "\n",
        "# K-Means\n",
        "kmeans = KMeans(n_clusters=3, random_state=1).fit(H_test)\n",
        "\n",
        "# we store the cluster labels\n",
        "labels = kmeans.labels_\n",
        "\n",
        "print(\"l’indice CH de Calinsky et Harabsz\",metrics.calinski_harabasz_score(H_test, labels))"
      ],
      "metadata": {
        "colab": {
          "base_uri": "https://localhost:8080/"
        },
        "id": "RkCgazq8VB6z",
        "outputId": "3c074694-40f5-4fc3-f9a7-0a7d4ec5b126"
      },
      "execution_count": null,
      "outputs": [
        {
          "output_type": "stream",
          "name": "stdout",
          "text": [
            "l’indice CH de Calinsky et Harabsz 111.0851883249139\n"
          ]
        }
      ]
    },
    {
      "cell_type": "code",
      "source": [
        "import numpy as np\n",
        "from sklearn import metrics\n",
        "\n",
        "def purity_score(y_true, y_pred):\n",
        "    # compute contingency matrix (also called confusion matrix)\n",
        "    contingency_matrix = metrics.cluster.contingency_matrix(y_true, y_pred)\n",
        "    # return purity\n",
        "    return np.sum(np.amax(contingency_matrix, axis=0)) / np.sum(contingency_matrix)"
      ],
      "metadata": {
        "id": "fzrye8_OWKHi"
      },
      "execution_count": null,
      "outputs": []
    },
    {
      "cell_type": "code",
      "source": [
        "import numpy as np\n",
        "\n",
        "'''def entropy(matrix2):\n",
        "  import sys\n",
        "  matrix = np.array(matrix2)\n",
        "  # Normalize the matrix so that the elements sum to 1\n",
        "  matrix = matrix / np.sum(np.array(matrix))\n",
        "  matrix = np.absolute(matrix) #valeur absolue car le logarithm ne prend que des entrées positives\n",
        "  matrix[matrix == 0] = sys.float_info.epsilon # on transforme les 0 en epsilon car le logarithm de prend pas de valeur nulles en entrée.\n",
        "\n",
        "  # Calculate the entropy\n",
        "  entropy = -np.sum(np.multiply(matrix,np.log2(matrix)))\n",
        "\n",
        "  return entropy'''"
      ],
      "metadata": {
        "id": "snSmrGdKqg4e",
        "colab": {
          "base_uri": "https://localhost:8080/",
          "height": 70
        },
        "outputId": "19e8dd98-108a-46e6-c42e-9f169c4a68e7"
      },
      "execution_count": null,
      "outputs": [
        {
          "output_type": "execute_result",
          "data": {
            "text/plain": [
              "'def entropy(matrix2):\\n  import sys\\n  matrix = np.array(matrix2)\\n  # Normalize the matrix so that the elements sum to 1\\n  matrix = matrix / np.sum(np.array(matrix))\\n  matrix = np.absolute(matrix) #valeur absolue car le logarithm ne prend que des entrées positives\\n  matrix[matrix == 0] = sys.float_info.epsilon # on transforme les 0 en epsilon car le logarithm de prend pas de valeur nulles en entrée.\\n  \\n  # Calculate the entropy\\n  entropy = -np.sum(np.multiply(matrix,np.log2(matrix)))\\n  \\n  return entropy'"
            ],
            "application/vnd.google.colaboratory.intrinsic+json": {
              "type": "string"
            }
          },
          "metadata": {},
          "execution_count": 42
        }
      ]
    },
    {
      "cell_type": "code",
      "source": [
        "print(\"entropie\",entropy(H_test))"
      ],
      "metadata": {
        "colab": {
          "base_uri": "https://localhost:8080/"
        },
        "id": "xunXYEhROM4r",
        "outputId": "dbd13563-62b5-40b7-8f3a-1819fcf01854"
      },
      "execution_count": null,
      "outputs": [
        {
          "output_type": "stream",
          "name": "stdout",
          "text": [
            "entropie [3.47295438 0.99259107       -inf       -inf]\n"
          ]
        }
      ]
    },
    {
      "cell_type": "code",
      "source": [
        "from scipy.stats import entropy\n",
        "print(\"entropy\",entropy(H_test))"
      ],
      "metadata": {
        "colab": {
          "base_uri": "https://localhost:8080/"
        },
        "id": "meSzNK2o_Oi6",
        "outputId": "0729a528-c218-4061-a3ea-584a1884cf12"
      },
      "execution_count": null,
      "outputs": [
        {
          "output_type": "stream",
          "name": "stdout",
          "text": [
            "entropy [3.47295438 0.99259107       -inf       -inf]\n"
          ]
        }
      ]
    },
    {
      "cell_type": "code",
      "source": [
        "print(W_train.shape)\n",
        "print(H_test.shape)\n",
        "print(\"puretée = \",purity_score(H_test,W_train[:100]))"
      ],
      "metadata": {
        "colab": {
          "base_uri": "https://localhost:8080/"
        },
        "id": "XSSn_drLNYy6",
        "outputId": "0b87769c-847a-464d-8cb1-2a8ee7bbf057"
      },
      "execution_count": null,
      "outputs": [
        {
          "output_type": "stream",
          "name": "stdout",
          "text": [
            "(300, 4)\n",
            "(100, 4)\n",
            "puretée =  0.9525\n"
          ]
        }
      ]
    },
    {
      "cell_type": "code",
      "source": [
        "print(H_test)\n",
        "print(W_train.shape)"
      ],
      "metadata": {
        "id": "k04qEFZ4WLco",
        "colab": {
          "base_uri": "https://localhost:8080/"
        },
        "outputId": "9ad865de-7b7d-4614-8e68-6eec02e77ea6"
      },
      "execution_count": null,
      "outputs": [
        {
          "output_type": "stream",
          "name": "stdout",
          "text": [
            "[[ 4.31967535e+00  0.00000000e+00  0.00000000e+00  0.00000000e+00]\n",
            " [ 0.00000000e+00  0.00000000e+00  0.00000000e+00  0.00000000e+00]\n",
            " [ 0.00000000e+00  0.00000000e+00  0.00000000e+00  0.00000000e+00]\n",
            " [ 1.51188637e+01  0.00000000e+00  0.00000000e+00  0.00000000e+00]\n",
            " [ 0.00000000e+00  0.00000000e+00  0.00000000e+00  0.00000000e+00]\n",
            " [ 3.02377274e+01  6.22882051e+01  0.00000000e+00  0.00000000e+00]\n",
            " [ 0.00000000e+00  0.00000000e+00  0.00000000e+00  0.00000000e+00]\n",
            " [ 8.63935070e+00  0.00000000e+00  0.00000000e+00  0.00000000e+00]\n",
            " [ 2.15983767e+01  0.00000000e+00  0.00000000e+00  0.00000000e+00]\n",
            " [ 8.63935070e+00  0.00000000e+00  7.12794194e+00  3.97196693e-01]\n",
            " [ 0.00000000e+00  4.15254700e+00  0.00000000e+00  0.00000000e+00]\n",
            " [ 0.00000000e+00  0.00000000e+00  0.00000000e+00  0.00000000e+00]\n",
            " [ 2.15983767e+00  0.00000000e+00  0.00000000e+00  0.00000000e+00]\n",
            " [ 2.37582144e+01  0.00000000e+00  0.00000000e+00  0.00000000e+00]\n",
            " [ 0.00000000e+00  0.00000000e+00  0.00000000e+00  0.00000000e+00]\n",
            " [ 2.15983767e+00  0.00000000e+00  0.00000000e+00  0.00000000e+00]\n",
            " [ 0.00000000e+00  0.00000000e+00  0.00000000e+00  0.00000000e+00]\n",
            " [ 0.00000000e+00  0.00000000e+00  0.00000000e+00  0.00000000e+00]\n",
            " [ 1.51188637e+01  0.00000000e+00  1.27613359e+00 -2.19319297e-01]\n",
            " [ 4.31967535e+00  0.00000000e+00  0.00000000e+00  0.00000000e+00]\n",
            " [ 2.15983767e+00  0.00000000e+00  1.27613359e+00 -2.19319297e-01]\n",
            " [ 0.00000000e+00  0.00000000e+00  0.00000000e+00  0.00000000e+00]\n",
            " [ 2.15983767e+00  0.00000000e+00  0.00000000e+00  0.00000000e+00]\n",
            " [ 2.15983767e+00  0.00000000e+00  0.00000000e+00  0.00000000e+00]\n",
            " [ 4.31967535e+00  4.15254700e+00  0.00000000e+00  0.00000000e+00]\n",
            " [ 0.00000000e+00  0.00000000e+00  1.95060278e+00  2.05505330e-01]\n",
            " [ 2.15983767e+00  0.00000000e+00  3.90120556e+00  4.11010660e-01]\n",
            " [ 0.00000000e+00  0.00000000e+00  0.00000000e+00  0.00000000e+00]\n",
            " [ 2.15983767e+00  0.00000000e+00  5.17733916e+00  1.91691363e-01]\n",
            " [ 0.00000000e+00  0.00000000e+00  0.00000000e+00  0.00000000e+00]\n",
            " [ 2.15983767e+00  0.00000000e+00  0.00000000e+00  0.00000000e+00]\n",
            " [ 0.00000000e+00  0.00000000e+00  1.27613359e+00 -2.19319297e-01]\n",
            " [ 6.47951302e+00  0.00000000e+00  0.00000000e+00  0.00000000e+00]\n",
            " [ 0.00000000e+00  0.00000000e+00  0.00000000e+00  0.00000000e+00]\n",
            " [ 8.63935070e+00  0.00000000e+00  0.00000000e+00  0.00000000e+00]\n",
            " [ 1.51188637e+01  0.00000000e+00  0.00000000e+00  0.00000000e+00]\n",
            " [ 1.07991884e+01  0.00000000e+00  0.00000000e+00  0.00000000e+00]\n",
            " [ 0.00000000e+00  0.00000000e+00  1.27613359e+00 -2.19319297e-01]\n",
            " [ 0.00000000e+00  0.00000000e+00  0.00000000e+00  0.00000000e+00]\n",
            " [ 0.00000000e+00  0.00000000e+00  2.50467388e-18 -3.80835513e-17]\n",
            " [ 4.31967535e+00  0.00000000e+00  2.55226718e+00 -4.38638594e-01]\n",
            " [ 0.00000000e+00  0.00000000e+00  0.00000000e+00  0.00000000e+00]\n",
            " [ 0.00000000e+00  0.00000000e+00  0.00000000e+00  0.00000000e+00]\n",
            " [ 0.00000000e+00  0.00000000e+00  0.00000000e+00  0.00000000e+00]\n",
            " [ 2.15983767e+00  0.00000000e+00  0.00000000e+00  0.00000000e+00]\n",
            " [ 2.15983767e+00  0.00000000e+00  0.00000000e+00  0.00000000e+00]\n",
            " [ 0.00000000e+00  0.00000000e+00  0.00000000e+00  0.00000000e+00]\n",
            " [ 2.15983767e+00  0.00000000e+00  0.00000000e+00  0.00000000e+00]\n",
            " [ 4.31967535e+00  0.00000000e+00  0.00000000e+00  0.00000000e+00]\n",
            " [ 0.00000000e+00  0.00000000e+00  0.00000000e+00  0.00000000e+00]\n",
            " [ 4.31967535e+00  0.00000000e+00  0.00000000e+00  0.00000000e+00]\n",
            " [ 0.00000000e+00  0.00000000e+00  0.00000000e+00  0.00000000e+00]\n",
            " [ 0.00000000e+00  0.00000000e+00  0.00000000e+00  0.00000000e+00]\n",
            " [ 0.00000000e+00  0.00000000e+00  0.00000000e+00  0.00000000e+00]\n",
            " [ 0.00000000e+00  0.00000000e+00  0.00000000e+00  0.00000000e+00]\n",
            " [ 0.00000000e+00  4.15254700e+00  0.00000000e+00  0.00000000e+00]\n",
            " [ 0.00000000e+00  0.00000000e+00 -9.22071480e-01  1.40200913e+01]\n",
            " [ 0.00000000e+00  0.00000000e+00  0.00000000e+00  0.00000000e+00]\n",
            " [ 0.00000000e+00  0.00000000e+00  0.00000000e+00  0.00000000e+00]\n",
            " [ 0.00000000e+00  0.00000000e+00  0.00000000e+00  0.00000000e+00]\n",
            " [ 4.31967535e+00  0.00000000e+00  2.55226718e+00 -4.38638594e-01]\n",
            " [ 0.00000000e+00  0.00000000e+00  0.00000000e+00  0.00000000e+00]\n",
            " [ 0.00000000e+00  0.00000000e+00  0.00000000e+00  0.00000000e+00]\n",
            " [ 2.15983767e+00  0.00000000e+00  5.10453437e+00 -8.77277188e-01]\n",
            " [ 2.15983767e+00  0.00000000e+00  0.00000000e+00  0.00000000e+00]\n",
            " [ 0.00000000e+00  0.00000000e+00 -5.53242888e-01  8.41205479e+00]\n",
            " [ 0.00000000e+00  0.00000000e+00  0.00000000e+00  0.00000000e+00]\n",
            " [ 0.00000000e+00  0.00000000e+00  0.00000000e+00  0.00000000e+00]\n",
            " [ 4.31967535e+00  0.00000000e+00  0.00000000e+00  0.00000000e+00]\n",
            " [ 1.51188637e+01  0.00000000e+00  0.00000000e+00  0.00000000e+00]\n",
            " [ 4.31967535e+00  0.00000000e+00  0.00000000e+00  0.00000000e+00]\n",
            " [ 0.00000000e+00  1.66101880e+01  0.00000000e+00  0.00000000e+00]\n",
            " [ 0.00000000e+00  0.00000000e+00  3.90120556e+00  4.11010660e-01]\n",
            " [ 0.00000000e+00  0.00000000e+00 -1.47531437e+00  2.24321461e+01]\n",
            " [ 2.15983767e+00  0.00000000e+00  0.00000000e+00  0.00000000e+00]\n",
            " [ 0.00000000e+00  0.00000000e+00  0.00000000e+00  0.00000000e+00]\n",
            " [ 0.00000000e+00  0.00000000e+00  0.00000000e+00  0.00000000e+00]\n",
            " [ 0.00000000e+00  0.00000000e+00  0.00000000e+00  0.00000000e+00]\n",
            " [ 0.00000000e+00  0.00000000e+00  0.00000000e+00  0.00000000e+00]\n",
            " [ 2.15983767e+00  0.00000000e+00  0.00000000e+00  0.00000000e+00]\n",
            " [ 0.00000000e+00  0.00000000e+00  0.00000000e+00  0.00000000e+00]\n",
            " [ 2.15983767e+00  0.00000000e+00  0.00000000e+00  0.00000000e+00]\n",
            " [ 2.15983767e+00  0.00000000e+00  0.00000000e+00  0.00000000e+00]\n",
            " [ 0.00000000e+00  0.00000000e+00  0.00000000e+00  0.00000000e+00]\n",
            " [ 6.47951302e+00  0.00000000e+00  0.00000000e+00  0.00000000e+00]\n",
            " [ 0.00000000e+00  0.00000000e+00  0.00000000e+00  0.00000000e+00]\n",
            " [ 0.00000000e+00  0.00000000e+00  0.00000000e+00  0.00000000e+00]\n",
            " [ 1.07991884e+01  0.00000000e+00  0.00000000e+00  0.00000000e+00]\n",
            " [ 6.47951302e+00  0.00000000e+00  0.00000000e+00  0.00000000e+00]\n",
            " [ 0.00000000e+00  0.00000000e+00  0.00000000e+00  0.00000000e+00]\n",
            " [ 6.47951302e+00  0.00000000e+00  5.10453437e+00 -8.77277188e-01]\n",
            " [ 0.00000000e+00  0.00000000e+00 -7.37657184e-01  1.12160730e+01]\n",
            " [ 1.07991884e+01  0.00000000e+00  0.00000000e+00  0.00000000e+00]\n",
            " [ 0.00000000e+00  0.00000000e+00 -1.84414296e+00  2.80401826e+01]\n",
            " [ 0.00000000e+00  0.00000000e+00 -1.84414296e-01  2.80401826e+00]\n",
            " [ 2.15983767e+00  0.00000000e+00  0.00000000e+00  0.00000000e+00]\n",
            " [ 0.00000000e+00  0.00000000e+00  0.00000000e+00  0.00000000e+00]\n",
            " [ 0.00000000e+00  0.00000000e+00  0.00000000e+00  0.00000000e+00]\n",
            " [ 6.47951302e+00  0.00000000e+00  0.00000000e+00  0.00000000e+00]\n",
            " [ 2.15983767e+00  0.00000000e+00  0.00000000e+00  0.00000000e+00]]\n",
            "(300, 4)\n"
          ]
        }
      ]
    },
    {
      "cell_type": "code",
      "source": [
        "import numpy as np\n",
        "from sklearn.metrics.pairwise import euclidean_distances\n",
        "\n",
        "def delta(ck, cl):\n",
        "    values = np.ones([len(ck), len(cl)])*10000\n",
        "\n",
        "    for i in range(0, len(ck)):\n",
        "        for j in range(0, len(cl)):\n",
        "            values[i, j] = np.linalg.norm(ck[i]-cl[j])\n",
        "\n",
        "    return np.min(values)\n",
        "\n",
        "def big_delta(ci):\n",
        "    values = np.zeros([len(ci), len(ci)])\n",
        "\n",
        "    for i in range(0, len(ci)):\n",
        "        for j in range(0, len(ci)):\n",
        "            values[i, j] = np.linalg.norm(ci[i]-ci[j])\n",
        "\n",
        "    return np.max(values)\n",
        "\n",
        "def dunn(k_list):\n",
        "    \"\"\" Dunn index [CVI]\n",
        "\n",
        "    Parameters\n",
        "    ----------\n",
        "    k_list : list of np.arrays\n",
        "        A list containing a numpy array for each cluster |c| = number of clusters\n",
        "        c[K] is np.array([N, p]) (N : number of samples in cluster K, p : sample dimension)\n",
        "    \"\"\"\n",
        "    deltas = np.ones([len(k_list), len(k_list)])*1000000\n",
        "    big_deltas = np.zeros([len(k_list), 1])\n",
        "    l_range = list(range(0, len(k_list)))\n",
        "\n",
        "    for k in l_range:\n",
        "        for l in (l_range[0:k]+l_range[k+1:]):\n",
        "            deltas[k, l] = delta(k_list[k], k_list[l])\n",
        "\n",
        "        big_deltas[k] = big_delta(k_list[k])\n",
        "\n",
        "    di = np.min(deltas)/np.max(big_deltas)\n",
        "    return di"
      ],
      "metadata": {
        "id": "CgO9-OtTVEsb"
      },
      "execution_count": null,
      "outputs": []
    },
    {
      "cell_type": "code",
      "source": [
        "def Dunn(matrix,labels):\n",
        "  import pandas as pd\n",
        "  # K-Means\n",
        "  from sklearn import cluster\n",
        "  k_mean_s = cluster.KMeans(n_clusters=4)\n",
        "  k_mean_s.fit(matrix) #K- mean s training\n",
        "  #y_pred = k_mean_s.predict(H_test)\n",
        "  # We store the K- mean s results in a dataframe\n",
        "  pred = pd.DataFrame(matrix)\n",
        "  l = labels\n",
        "  for i in range(len(l)):\n",
        "\n",
        "      if l[i] == 'acq':\n",
        "          l[i] = 0\n",
        "\n",
        "      if l[i] == 'alum':\n",
        "          l[i] = 1\n",
        "\n",
        "      if l[i] == 'austdlr':\n",
        "          l[i] = 2\n",
        "\n",
        "      if l[i] == 'austral':\n",
        "          l[i] = 3\n",
        "\n",
        "  pred['Type'] = l\n",
        "\n",
        "  # we merge this dataframe with df\n",
        "  prediction = pd.concat([df, pred], axis = 1)\n",
        "  # We store the clusters\n",
        "  clus0 = prediction.loc[prediction.Type == 0]\n",
        "  clus1 = prediction.loc[prediction.Type == 1]\n",
        "  clus2 = prediction.loc[prediction.Type == 2]\n",
        "  clus3 = prediction.loc[prediction.Type == 3]\n",
        "  cluster_list = [clus0.values, clus1.values, clus2.values,clus3.values]\n",
        "\n",
        "  return dunn(cluster_list)"
      ],
      "metadata": {
        "id": "FcO3RVBASJQ8"
      },
      "execution_count": null,
      "outputs": []
    },
    {
      "cell_type": "code",
      "source": [
        "df3 = pd.DataFrame(H_test)\n",
        "df3"
      ],
      "metadata": {
        "colab": {
          "base_uri": "https://localhost:8080/",
          "height": 424
        },
        "id": "PAce97nKSjkJ",
        "outputId": "2c19dc87-9223-4fef-aaea-fd9d0e08309e"
      },
      "execution_count": null,
      "outputs": [
        {
          "output_type": "execute_result",
          "data": {
            "text/plain": [
              "               0             1             2             3\n",
              "0   4.319675e+00  2.220446e-16  2.220446e-16  2.220446e-16\n",
              "1   2.220446e-16  2.220446e-16  2.220446e-16  2.220446e-16\n",
              "2   2.220446e-16  2.220446e-16  2.220446e-16  2.220446e-16\n",
              "3   1.511886e+01  2.220446e-16  2.220446e-16  2.220446e-16\n",
              "4   2.220446e-16  2.220446e-16  2.220446e-16  2.220446e-16\n",
              "..           ...           ...           ...           ...\n",
              "95  2.159838e+00  2.220446e-16  2.220446e-16  2.220446e-16\n",
              "96  2.220446e-16  2.220446e-16  2.220446e-16  2.220446e-16\n",
              "97  2.220446e-16  2.220446e-16  2.220446e-16  2.220446e-16\n",
              "98  6.479513e+00  2.220446e-16  2.220446e-16  2.220446e-16\n",
              "99  2.159838e+00  2.220446e-16  2.220446e-16  2.220446e-16\n",
              "\n",
              "[100 rows x 4 columns]"
            ],
            "text/html": [
              "\n",
              "  <div id=\"df-37132a0d-2972-4dd4-aa63-4a7de5c32f98\">\n",
              "    <div class=\"colab-df-container\">\n",
              "      <div>\n",
              "<style scoped>\n",
              "    .dataframe tbody tr th:only-of-type {\n",
              "        vertical-align: middle;\n",
              "    }\n",
              "\n",
              "    .dataframe tbody tr th {\n",
              "        vertical-align: top;\n",
              "    }\n",
              "\n",
              "    .dataframe thead th {\n",
              "        text-align: right;\n",
              "    }\n",
              "</style>\n",
              "<table border=\"1\" class=\"dataframe\">\n",
              "  <thead>\n",
              "    <tr style=\"text-align: right;\">\n",
              "      <th></th>\n",
              "      <th>0</th>\n",
              "      <th>1</th>\n",
              "      <th>2</th>\n",
              "      <th>3</th>\n",
              "    </tr>\n",
              "  </thead>\n",
              "  <tbody>\n",
              "    <tr>\n",
              "      <th>0</th>\n",
              "      <td>4.319675e+00</td>\n",
              "      <td>2.220446e-16</td>\n",
              "      <td>2.220446e-16</td>\n",
              "      <td>2.220446e-16</td>\n",
              "    </tr>\n",
              "    <tr>\n",
              "      <th>1</th>\n",
              "      <td>2.220446e-16</td>\n",
              "      <td>2.220446e-16</td>\n",
              "      <td>2.220446e-16</td>\n",
              "      <td>2.220446e-16</td>\n",
              "    </tr>\n",
              "    <tr>\n",
              "      <th>2</th>\n",
              "      <td>2.220446e-16</td>\n",
              "      <td>2.220446e-16</td>\n",
              "      <td>2.220446e-16</td>\n",
              "      <td>2.220446e-16</td>\n",
              "    </tr>\n",
              "    <tr>\n",
              "      <th>3</th>\n",
              "      <td>1.511886e+01</td>\n",
              "      <td>2.220446e-16</td>\n",
              "      <td>2.220446e-16</td>\n",
              "      <td>2.220446e-16</td>\n",
              "    </tr>\n",
              "    <tr>\n",
              "      <th>4</th>\n",
              "      <td>2.220446e-16</td>\n",
              "      <td>2.220446e-16</td>\n",
              "      <td>2.220446e-16</td>\n",
              "      <td>2.220446e-16</td>\n",
              "    </tr>\n",
              "    <tr>\n",
              "      <th>...</th>\n",
              "      <td>...</td>\n",
              "      <td>...</td>\n",
              "      <td>...</td>\n",
              "      <td>...</td>\n",
              "    </tr>\n",
              "    <tr>\n",
              "      <th>95</th>\n",
              "      <td>2.159838e+00</td>\n",
              "      <td>2.220446e-16</td>\n",
              "      <td>2.220446e-16</td>\n",
              "      <td>2.220446e-16</td>\n",
              "    </tr>\n",
              "    <tr>\n",
              "      <th>96</th>\n",
              "      <td>2.220446e-16</td>\n",
              "      <td>2.220446e-16</td>\n",
              "      <td>2.220446e-16</td>\n",
              "      <td>2.220446e-16</td>\n",
              "    </tr>\n",
              "    <tr>\n",
              "      <th>97</th>\n",
              "      <td>2.220446e-16</td>\n",
              "      <td>2.220446e-16</td>\n",
              "      <td>2.220446e-16</td>\n",
              "      <td>2.220446e-16</td>\n",
              "    </tr>\n",
              "    <tr>\n",
              "      <th>98</th>\n",
              "      <td>6.479513e+00</td>\n",
              "      <td>2.220446e-16</td>\n",
              "      <td>2.220446e-16</td>\n",
              "      <td>2.220446e-16</td>\n",
              "    </tr>\n",
              "    <tr>\n",
              "      <th>99</th>\n",
              "      <td>2.159838e+00</td>\n",
              "      <td>2.220446e-16</td>\n",
              "      <td>2.220446e-16</td>\n",
              "      <td>2.220446e-16</td>\n",
              "    </tr>\n",
              "  </tbody>\n",
              "</table>\n",
              "<p>100 rows × 4 columns</p>\n",
              "</div>\n",
              "      <button class=\"colab-df-convert\" onclick=\"convertToInteractive('df-37132a0d-2972-4dd4-aa63-4a7de5c32f98')\"\n",
              "              title=\"Convert this dataframe to an interactive table.\"\n",
              "              style=\"display:none;\">\n",
              "        \n",
              "  <svg xmlns=\"http://www.w3.org/2000/svg\" height=\"24px\"viewBox=\"0 0 24 24\"\n",
              "       width=\"24px\">\n",
              "    <path d=\"M0 0h24v24H0V0z\" fill=\"none\"/>\n",
              "    <path d=\"M18.56 5.44l.94 2.06.94-2.06 2.06-.94-2.06-.94-.94-2.06-.94 2.06-2.06.94zm-11 1L8.5 8.5l.94-2.06 2.06-.94-2.06-.94L8.5 2.5l-.94 2.06-2.06.94zm10 10l.94 2.06.94-2.06 2.06-.94-2.06-.94-.94-2.06-.94 2.06-2.06.94z\"/><path d=\"M17.41 7.96l-1.37-1.37c-.4-.4-.92-.59-1.43-.59-.52 0-1.04.2-1.43.59L10.3 9.45l-7.72 7.72c-.78.78-.78 2.05 0 2.83L4 21.41c.39.39.9.59 1.41.59.51 0 1.02-.2 1.41-.59l7.78-7.78 2.81-2.81c.8-.78.8-2.07 0-2.86zM5.41 20L4 18.59l7.72-7.72 1.47 1.35L5.41 20z\"/>\n",
              "  </svg>\n",
              "      </button>\n",
              "      \n",
              "  <style>\n",
              "    .colab-df-container {\n",
              "      display:flex;\n",
              "      flex-wrap:wrap;\n",
              "      gap: 12px;\n",
              "    }\n",
              "\n",
              "    .colab-df-convert {\n",
              "      background-color: #E8F0FE;\n",
              "      border: none;\n",
              "      border-radius: 50%;\n",
              "      cursor: pointer;\n",
              "      display: none;\n",
              "      fill: #1967D2;\n",
              "      height: 32px;\n",
              "      padding: 0 0 0 0;\n",
              "      width: 32px;\n",
              "    }\n",
              "\n",
              "    .colab-df-convert:hover {\n",
              "      background-color: #E2EBFA;\n",
              "      box-shadow: 0px 1px 2px rgba(60, 64, 67, 0.3), 0px 1px 3px 1px rgba(60, 64, 67, 0.15);\n",
              "      fill: #174EA6;\n",
              "    }\n",
              "\n",
              "    [theme=dark] .colab-df-convert {\n",
              "      background-color: #3B4455;\n",
              "      fill: #D2E3FC;\n",
              "    }\n",
              "\n",
              "    [theme=dark] .colab-df-convert:hover {\n",
              "      background-color: #434B5C;\n",
              "      box-shadow: 0px 1px 3px 1px rgba(0, 0, 0, 0.15);\n",
              "      filter: drop-shadow(0px 1px 2px rgba(0, 0, 0, 0.3));\n",
              "      fill: #FFFFFF;\n",
              "    }\n",
              "  </style>\n",
              "\n",
              "      <script>\n",
              "        const buttonEl =\n",
              "          document.querySelector('#df-37132a0d-2972-4dd4-aa63-4a7de5c32f98 button.colab-df-convert');\n",
              "        buttonEl.style.display =\n",
              "          google.colab.kernel.accessAllowed ? 'block' : 'none';\n",
              "\n",
              "        async function convertToInteractive(key) {\n",
              "          const element = document.querySelector('#df-37132a0d-2972-4dd4-aa63-4a7de5c32f98');\n",
              "          const dataTable =\n",
              "            await google.colab.kernel.invokeFunction('convertToInteractive',\n",
              "                                                     [key], {});\n",
              "          if (!dataTable) return;\n",
              "\n",
              "          const docLinkHtml = 'Like what you see? Visit the ' +\n",
              "            '<a target=\"_blank\" href=https://colab.research.google.com/notebooks/data_table.ipynb>data table notebook</a>'\n",
              "            + ' to learn more about interactive tables.';\n",
              "          element.innerHTML = '';\n",
              "          dataTable['output_type'] = 'display_data';\n",
              "          await google.colab.output.renderOutput(dataTable, element);\n",
              "          const docLink = document.createElement('div');\n",
              "          docLink.innerHTML = docLinkHtml;\n",
              "          element.appendChild(docLink);\n",
              "        }\n",
              "      </script>\n",
              "    </div>\n",
              "  </div>\n",
              "  "
            ]
          },
          "metadata": {},
          "execution_count": 76
        }
      ]
    },
    {
      "cell_type": "code",
      "source": [
        "df3 = pd.DataFrame(H_test)\n",
        "X = []\n",
        "j=0\n",
        "for i in range(df3.shape[0]):\n",
        "  X.append(j)\n",
        "  if j ==3:\n",
        "    j=0\n",
        "  j+=1\n",
        "PlotClusters(df3,X,0,0)"
      ],
      "metadata": {
        "colab": {
          "base_uri": "https://localhost:8080/",
          "height": 466
        },
        "id": "SoGJl_9r48hb",
        "outputId": "7b934baf-ad37-4c87-feda-f366366b0a30"
      },
      "execution_count": null,
      "outputs": [
        {
          "output_type": "display_data",
          "data": {
            "text/plain": [
              "<Figure size 576x576 with 1 Axes>"
            ],
            "image/png": "[encoded data removed]"
          },
          "metadata": {
            "needs_background": "light"
          }
        }
      ]
    },
    {
      "cell_type": "code",
      "source": [
        "import numpy as np\n",
        "from sklearn.feature_extraction.text import TfidfVectorizer\n",
        "from sklearn.decomposition import NMF\n",
        "model = NMF(n_components=4, init='random', random_state=0)\n",
        "W_train = model.fit_transform(reut_train) #prototype\n",
        "print(\"------------------reut_train=\",reut_train.shape)\n",
        "H = model.components_  #partition\n",
        "print(\" W_train:\",W_train.shape, \"H :\",H.shape)\n",
        "#https://scikit-learn.org/stable/modules/generated/sklearn.decomposition.NMF.html\n",
        "H = show_clusters(H)\n",
        "H_inverse = np.linalg.pinv(H)\n",
        "print(\"reut_test :\",reut_test.shape,\" H_inverse:\",H_inverse.shape)\n",
        "H_test = reut_test @ H_inverse\n",
        "\n",
        "\n",
        "\n",
        "F= model.fit_transform(reuters4)\n",
        "GT = model.components_\n",
        "print(\"F :\",F.shape,\" GT:\",GT.shape)\n",
        "model1 = NMF(n_components=4, init='random', random_state=0)\n",
        "S =  model1.fit_transform(GT)\n",
        "GT2 = model1.components_\n",
        "print(\"S :\",S.shape,\" GT2:\",GT2.shape)\n",
        "\n",
        "\n",
        "import pprint\n",
        "import scipy\n",
        "import scipy.linalg   # SciPy Linear Algebra Library\n",
        "\n",
        "# From the Wikipedia Article on QR Decomposition\n",
        "Q, R = scipy.linalg.qr(F)\n",
        "\n",
        "from scipy.linalg import orth\n",
        "import numpy as np\n",
        "\n",
        "# Créez une matrice non orthogonale\n",
        "\n",
        "\n",
        "# Calculez la matrice orthogonale la plus proche de A\n",
        "B = orth(Q)\n",
        "\n",
        "# Vérifiez si B est orthogonale\n",
        "print(np.allclose(np.dot(B, B.T), np.eye(B.shape[0])))  # doit afficher True\n",
        "print(np.dot(B, B.T))"
      ],
      "metadata": {
        "colab": {
          "base_uri": "https://localhost:8080/"
        },
        "id": "6lznWIhGs4Fr",
        "outputId": "2d40a08d-af9c-482d-81d7-ab7c79a0dca5"
      },
      "execution_count": null,
      "outputs": [
        {
          "output_type": "stream",
          "name": "stdout",
          "text": [
            "------------------reut_train= (300, 1202)\n",
            " W_train: (300, 4) H : (4, 1202)\n",
            "reut_test : (100, 1202)  H_inverse: (1202, 4)\n",
            "F : (400, 4)  GT: (4, 1202)\n",
            "S : (4, 4)  GT2: (4, 1202)\n",
            "True\n",
            "[[ 1.00000000e+00  7.63278329e-17  2.77555756e-17 ... -3.64291930e-17\n",
            "   1.77809156e-17 -8.67361738e-19]\n",
            " [ 7.63278329e-17  1.00000000e+00  1.11022302e-16 ...  2.42861287e-17\n",
            "  -6.93889390e-18 -1.73472348e-17]\n",
            " [ 2.77555756e-17  1.11022302e-16  1.00000000e+00 ... -3.29597460e-17\n",
            "   8.76035355e-17  3.81639165e-17]\n",
            " ...\n",
            " [-3.64291930e-17  2.42861287e-17 -3.29597460e-17 ...  1.00000000e+00\n",
            "  -4.16333634e-17 -2.08166817e-17]\n",
            " [ 1.77809156e-17 -6.93889390e-18  8.76035355e-17 ... -4.16333634e-17\n",
            "   1.00000000e+00 -1.99493200e-17]\n",
            " [-8.67361738e-19 -1.73472348e-17  3.81639165e-17 ... -2.08166817e-17\n",
            "  -1.99493200e-17  1.00000000e+00]]\n"
          ]
        }
      ]
    },
    {
      "cell_type": "code",
      "source": [
        "import numpy as np\n",
        "\n",
        "def symmetric_nmf(X, r, max_iter=200, tol=1e-4):\n",
        "  # Initialiser les facteurs de décomposition W et H aléatoirement\n",
        "  W = np.random.rand(X.shape[0], r)\n",
        "  H = np.random.rand(r, X.shape[1])\n",
        "\n",
        "  # itérer jusqu'à atteindre la convergence ou le nombre maximal d'itérations\n",
        "  for i in range(max_iter):\n",
        "    # mettre à jour H en utilisant la formule de mise à jour de H\n",
        "    H = H * (W.T @ X) / (W.T @ W @ H)\n",
        "    # mettre à jour W en utilisant la formule de mise à jour de W\n",
        "    W = W * (X @ H.T) / (W @ H @ H.T)\n",
        "\n",
        "    # calculer l'erreur quadratique moyenne (MSE)\n",
        "    mse = np.linalg.norm(X - W @ H)**2 / X.size\n",
        "\n",
        "    # vérifier si l'erreur est inférieure à la tolérance spécifiée\n",
        "    if mse < tol:\n",
        "      break\n",
        "\n",
        "  return W, H\n"
      ],
      "metadata": {
        "id": "oAkuFNUzwkV2"
      },
      "execution_count": null,
      "outputs": []
    },
    {
      "cell_type": "code",
      "source": [
        "import sys\n",
        "H_test2 = H_test\n",
        "H_test2[H_test2 == 0] = sys.float_info.epsilon\n",
        "W, H = symmetric_nmf(H_test2, 4)\n",
        "print(\"W = \",W.shape)\n",
        "print(\"H = \",H.shape)"
      ],
      "metadata": {
        "colab": {
          "base_uri": "https://localhost:8080/"
        },
        "id": "reSw5NM151WD",
        "outputId": "a560997c-827d-435b-9320-969d2a999eff"
      },
      "execution_count": null,
      "outputs": [
        {
          "output_type": "stream",
          "name": "stdout",
          "text": [
            "W =  (100, 4)\n",
            "H =  (4, 4)\n"
          ]
        }
      ]
    },
    {
      "cell_type": "code",
      "source": [
        "import numpy as np\n",
        "def gram_matrix(X):\n",
        "  return X @ X.T\n",
        "H_test_gram = gram_matrix(H_test)\n",
        "H_test_gram.shape\n"
      ],
      "metadata": {
        "id": "SxCIA7UO6t6T",
        "colab": {
          "base_uri": "https://localhost:8080/"
        },
        "outputId": "b8743314-9456-4a2f-8287-9ec54b2fb3e7"
      },
      "execution_count": null,
      "outputs": [
        {
          "output_type": "execute_result",
          "data": {
            "text/plain": [
              "(100, 100)"
            ]
          },
          "metadata": {},
          "execution_count": 63
        }
      ]
    },
    {
      "cell_type": "code",
      "source": [
        "print(\"puretée :\",purity_score(W,H_test))\n",
        "print(\"entropie:\",entropy(W))\n",
        "print(\"Indice de Dunn :\",Dunn(W,labels_test))\n",
        "print(\"(l’indice DB de Davies et Bouldin\",metrics.davies_bouldin_score(W, labels_test))\n",
        "print(\"l’indice CH de Calinsky et Harabsz\",metrics.calinski_harabasz_score(W, labels_test))"
      ],
      "metadata": {
        "colab": {
          "base_uri": "https://localhost:8080/"
        },
        "id": "NOxeXnDY8FDd",
        "outputId": "3f395786-3c40-444a-e2d6-d2059ab34a6a"
      },
      "execution_count": null,
      "outputs": [
        {
          "output_type": "stream",
          "name": "stdout",
          "text": [
            "puretée : 0.205\n",
            "entropie: [      -inf       -inf 1.37114088       -inf]\n",
            "Indice de Dunn : 3.4704706196662425e-05\n",
            "(l’indice DB de Davies et Bouldin 6.744673057339174\n",
            "l’indice CH de Calinsky et Harabsz 1.7423799600827488\n"
          ]
        }
      ]
    },
    {
      "cell_type": "code",
      "source": [
        "df4 = pd.DataFrame(H_test_gram)\n",
        "PlotClusters(df4,labels4[:100],0,0)"
      ],
      "metadata": {
        "id": "LPuUIx502_xn",
        "colab": {
          "base_uri": "https://localhost:8080/",
          "height": 466
        },
        "outputId": "b9a9ee51-6b85-477d-d1e6-9001efd92769"
      },
      "execution_count": null,
      "outputs": [
        {
          "output_type": "display_data",
          "data": {
            "text/plain": [
              "<Figure size 576x576 with 1 Axes>"
            ],
            "image/png": "[encoded data removed]"
          },
          "metadata": {
            "needs_background": "light"
          }
        }
      ]
    },
    {
      "cell_type": "code",
      "source": [
        "import numpy as np\n",
        "\n",
        "def gram_matrix(X, degree, offset):\n",
        "    n_samples, n_features = X.shape\n",
        "    K = np.zeros((n_samples, n_samples))\n",
        "    for i, x_i in enumerate(X):\n",
        "        for j, x_j in enumerate(X):\n",
        "            K[i, j] = (np.dot(x_i, x_j) + offset) ** degree\n",
        "    return K"
      ],
      "metadata": {
        "id": "Q_VxE2fD8vNi"
      },
      "execution_count": null,
      "outputs": []
    },
    {
      "cell_type": "code",
      "source": [
        "X = np.array([[0, 1], [2, 3], [4, 5]])\n"
      ],
      "metadata": {
        "id": "cLtbO1vb8zYP"
      },
      "execution_count": null,
      "outputs": []
    },
    {
      "cell_type": "code",
      "source": [
        "degree = 1\n",
        "offset = 2\n",
        "H_gram_noyau = gram_matrix(H_test, degree, offset)\n",
        "H_gram_noyau"
      ],
      "metadata": {
        "colab": {
          "base_uri": "https://localhost:8080/"
        },
        "id": "cU_cNyr981s3",
        "outputId": "7302c72d-69a5-494b-db1e-26159ee18238"
      },
      "execution_count": null,
      "outputs": [
        {
          "output_type": "execute_result",
          "data": {
            "text/plain": [
              "array([[20.65959511,  2.        ,  2.        , ...,  2.        ,\n",
              "        29.98939266, 11.32979755],\n",
              "       [ 2.        ,  2.        ,  2.        , ...,  2.        ,\n",
              "         2.        ,  2.        ],\n",
              "       [ 2.        ,  2.        ,  2.        , ...,  2.        ,\n",
              "         2.        ,  2.        ],\n",
              "       ...,\n",
              "       [ 2.        ,  2.        ,  2.        , ...,  2.        ,\n",
              "         2.        ,  2.        ],\n",
              "       [29.98939266,  2.        ,  2.        , ...,  2.        ,\n",
              "        43.98408899, 15.99469633],\n",
              "       [11.32979755,  2.        ,  2.        , ...,  2.        ,\n",
              "        15.99469633,  6.66489878]])"
            ]
          },
          "metadata": {},
          "execution_count": 67
        }
      ]
    },
    {
      "cell_type": "code",
      "source": [
        "import sys\n",
        "H_gram_noyau[H_gram_noyau == 0] = sys.float_info.epsilon\n",
        "W, H = symmetric_nmf(H_gram_noyau, 4)\n",
        "print(\"W = \",W.shape)"
      ],
      "metadata": {
        "colab": {
          "base_uri": "https://localhost:8080/"
        },
        "id": "uOSidszzA9No",
        "outputId": "5cf71b93-65e8-47f5-f78a-0e8e97771bde"
      },
      "execution_count": null,
      "outputs": [
        {
          "output_type": "stream",
          "name": "stdout",
          "text": [
            "W =  (100, 4)\n"
          ]
        }
      ]
    },
    {
      "cell_type": "code",
      "source": [
        "import numpy as np\n",
        "\n",
        "def gram_matrix(X):\n",
        "  return X @ X.T\n",
        "H_gram_noyau = gram_matrix(H_gram_noyau)\n",
        "H_gram_noyau.shape"
      ],
      "metadata": {
        "colab": {
          "base_uri": "https://localhost:8080/"
        },
        "id": "vV0h4Nh1AArd",
        "outputId": "705d203c-fd6c-4e28-c2e3-ff53e631e91d"
      },
      "execution_count": null,
      "outputs": [
        {
          "output_type": "execute_result",
          "data": {
            "text/plain": [
              "(100, 100)"
            ]
          },
          "metadata": {},
          "execution_count": 69
        }
      ]
    },
    {
      "cell_type": "code",
      "source": [
        "print(\"puretée :\",purity_score(W,H_test))\n",
        "print(\"entropie:\",entropy(W))\n",
        "print(\"Indice de Dunn :\",Dunn(W,labels_test))\n",
        "print(\"(l’indice DB de Davies et Bouldin\",metrics.davies_bouldin_score(W, labels_test))\n",
        "print(\"l’indice CH de Calinsky et Harabsz\",metrics.calinski_harabasz_score(W, labels_test))"
      ],
      "metadata": {
        "colab": {
          "base_uri": "https://localhost:8080/"
        },
        "id": "QbtqniaLAL9x",
        "outputId": "3a303cac-213a-4e75-dd15-f625384598c4"
      },
      "execution_count": null,
      "outputs": [
        {
          "output_type": "stream",
          "name": "stdout",
          "text": [
            "puretée : 0.1025\n",
            "entropie: [3.60417592 3.20987909 2.9660988  3.67932909]\n",
            "Indice de Dunn : 0.03479135839237573\n",
            "(l’indice DB de Davies et Bouldin 6.602654814831487\n",
            "l’indice CH de Calinsky et Harabsz 0.5452579866309694\n"
          ]
        }
      ]
    },
    {
      "cell_type": "code",
      "source": [
        "df5 = pd.DataFrame(H_gram_noyau)\n",
        "PlotClusters(df5,labels4[:100],0,0)"
      ],
      "metadata": {
        "colab": {
          "base_uri": "https://localhost:8080/",
          "height": 466
        },
        "id": "rsk6E0nKC8CM",
        "outputId": "b32d03d6-58cc-4037-dedc-73ae9a3d9080"
      },
      "execution_count": null,
      "outputs": [
        {
          "output_type": "display_data",
          "data": {
            "text/plain": [
              "<Figure size 576x576 with 1 Axes>"
            ],
            "image/png": "[encoded data removed]"
          },
          "metadata": {
            "needs_background": "light"
          }
        }
      ]
    },
    {
      "cell_type": "markdown",
      "source": [
        "\n",
        "\n",
        "---\n",
        "\n",
        "\n",
        "les 2 blocs de code ci-dessous sont pour filtrer et traiter nos textes, mais vu que nous avons utiliser \"TfidfVectorizer\" qui le fait déjà pour nous, nous n'avons pas fait ce traitement au préalable.\n",
        "\n",
        "\n",
        "\n"
      ],
      "metadata": {
        "id": "jx8mxjvuUEaq"
      }
    },
    {
      "cell_type": "code",
      "source": [
        "def process_token(token): #test si un mot doit etre éliminer ou pas.\n",
        "    token = token.lower()\n",
        "    if len(token) < 4: # If True, do not return token\n",
        "        return None\n",
        "    if not(token.isalpha()): # If True, do not return token\n",
        "        return None\n",
        "    return token # If all are False, return the lowercased token"
      ],
      "metadata": {
        "id": "69f08-5ib9jX"
      },
      "execution_count": null,
      "outputs": []
    },
    {
      "cell_type": "code",
      "source": [
        "from nltk.corpus import stopwords\n",
        "from nltk.corpus import stopwords\n",
        "from nltk.tokenize import word_tokenize\n",
        "def tokenize(text):#filtre les textes en éliminant le ponctuation / mots inutiles.\n",
        "  stop_words = set(stopwords.words('english'))\n",
        "\n",
        "  word_tokens = word_tokenize(text)\n",
        "\n",
        "  #filtered_sentence = [w for w in word_tokens if not w.lower() in stop_words]\n",
        "\n",
        "  filtered_text = []\n",
        "\n",
        "  for w in word_tokens:\n",
        "    if process_token(w) != None: #ne pas prendre en compte les nombres et les mots de longueur < 4.\n",
        "      if w not in stop_words:\n",
        "          filtered_text.append(w)\n",
        "  return filtered_text"
      ],
      "metadata": {
        "id": "IG-U5IRu3bwt"
      },
      "execution_count": null,
      "outputs": []
    }
  ]
}